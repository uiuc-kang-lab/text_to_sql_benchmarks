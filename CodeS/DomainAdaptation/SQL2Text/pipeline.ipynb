{
 "cells": [
  {
   "cell_type": "code",
   "execution_count": 76,
   "metadata": {},
   "outputs": [],
   "source": [
    "import json\n",
    "import sqlite3\n",
    "import pandas as pd\n",
    "import numpy as np\n",
    "import requests\n",
    "import tqdm\n",
    "import re"
   ]
  },
  {
   "cell_type": "code",
   "execution_count": 63,
   "metadata": {},
   "outputs": [],
   "source": [
    "# Arguments\n",
    "db_path = '../Database/Aminer_Simplified-small.sqlite'\n",
    "template_path = './templates.json'\n",
    "url = 'openai-url'\n",
    "api_key = 'your-api-key'\n",
    "headers = {\n",
    "    'Content-Type': 'application/json',\n",
    "    'Authorization': f'Bearer {api_key}'\n",
    "}\n",
    "prompt_path = './ZeroShotRewitePrompt.txt'"
   ]
  },
  {
   "cell_type": "code",
   "execution_count": 19,
   "metadata": {},
   "outputs": [
    {
     "data": {
      "text/plain": [
       "{'Venue': [('id', 'TEXT'), ('DisplayName', 'TEXT')],\n",
       " 'Affiliation': [('id', 'TEXT'),\n",
       "  ('DisplayName', 'TEXT'),\n",
       "  ('type', 'TEXT'),\n",
       "  ('url', 'TEXT')],\n",
       " 'Author': [('id', 'TEXT'),\n",
       "  ('name', 'TEXT'),\n",
       "  ('org', 'TEXT'),\n",
       "  ('position', 'TEXT'),\n",
       "  ('n_pubs', 'INTEGER'),\n",
       "  ('n_citation', 'INTEGER'),\n",
       "  ('h_index', 'INTEGER')],\n",
       " 'Paper': [('id', 'TEXT'),\n",
       "  ('title', 'TEXT'),\n",
       "  ('year', 'INTEGER'),\n",
       "  ('n_citation', 'INTEGER'),\n",
       "  ('page_start', 'TEXT'),\n",
       "  ('page_end', 'TEXT'),\n",
       "  ('lang', 'TEXT'),\n",
       "  ('volume', 'TEXT'),\n",
       "  ('doi', 'TEXT'),\n",
       "  ('pdf', 'TEXT'),\n",
       "  ('abstract', 'TEXT')],\n",
       " 'Venue_Papers': [('venue_id', 'TEXT'), ('paper_id', 'TEXT')],\n",
       " 'Paper_Keywords': [('paper_id', 'TEXT'), ('keyword', 'TEXT')],\n",
       " 'Paper_Authors': [('paper_id', 'TEXT'),\n",
       "  ('rank', 'INTEGER'),\n",
       "  ('author_id', 'TEXT')],\n",
       " 'Orgnization_Researchers': [('affiliation_name', 'TEXT'),\n",
       "  ('author_id', 'TEXT')],\n",
       " 'Researcher_Interests': [('author_id', 'TEXT'),\n",
       "  ('tag', 'TEXT'),\n",
       "  ('weight', 'INTEGER')]}"
      ]
     },
     "execution_count": 19,
     "metadata": {},
     "output_type": "execute_result"
    }
   ],
   "source": [
    "def get_tables_info(db_path) -> dict:\n",
    "\n",
    "    tables_info = {}\n",
    "    \n",
    "    conn = sqlite3.connect(db_path)\n",
    "    cur = conn.cursor()\n",
    "    \n",
    "    # Fetch names of all tables\n",
    "    cur.execute(\"SELECT name FROM sqlite_master WHERE type='table';\")\n",
    "    tables = cur.fetchall()\n",
    "\n",
    "    # For each table, fetch column names and data types\n",
    "    for table in tables:\n",
    "        table_name = table[0]\n",
    "        cur.execute(f\"PRAGMA table_info({table_name});\")\n",
    "        columns_info = cur.fetchall()\n",
    "        columns = []\n",
    "        for column_info in columns_info:\n",
    "            column_id, column_name, column_type, notnull, dflt_value, pk = column_info\n",
    "            columns.append((column_name, column_type))\n",
    "        tables_info[table_name] = columns\n",
    "    \n",
    "    conn.close()\n",
    "    return tables_info\n",
    "\n",
    "get_tables_info(db_path=db_path)"
   ]
  },
  {
   "cell_type": "code",
   "execution_count": 12,
   "metadata": {},
   "outputs": [
    {
     "name": "stdout",
     "output_type": "stream",
     "text": [
      "CREATE TABLE Venue(\n",
      "  id TEXT, -- id\n",
      "  DisplayName TEXT, -- name of the conferenece/joural\n",
      "  PRIMARY KEY (id)\n",
      ")\n",
      "\n",
      "CREATE TABLE Affiliation(\n",
      "  id TEXT, -- id\n",
      "  DisplayName TEXT, -- name of the orgnization\n",
      "  type TEXT, -- orgnization type\n",
      "  url TEXT, -- link of the orgnization's homepage\n",
      "  PRIMARY KEY (id)\n",
      ")\n",
      "\n",
      "CREATE TABLE Author(\n",
      "  id TEXT, -- id\n",
      "  name TEXT, -- name\n",
      "  org TEXT, -- author's current orgnization\n",
      "  position TEXT, -- position\n",
      "  n_pubs INTEGER, -- number of paper publication\n",
      "  n_citation INTEGER, -- number of total citation\n",
      "  h_index INTEGER, -- h-index\n",
      "  PRIMARY KEY (id)\n",
      ")\n",
      "\n",
      "CREATE TABLE Paper(\n",
      "  id TEXT, -- id\n",
      "  title TEXT, -- title\n",
      "  year INTEGER, -- publication year\n",
      "  n_citation INTEGER, -- number of citation\n",
      "  page_start TEXT, -- start page on the publication\n",
      "  page_end TEXT, -- end page on the publication\n",
      "  lang TEXT, -- language\n",
      "  volume TEXT, -- volume of the publicaiton\n",
      "  doi TEXT, -- digital object unique identifier\n",
      "  pdf TEXT, -- pdf view link of the paper\n",
      "  abstract TEXT, -- paper abstract\n",
      "  PRIMARY KEY (id)\n",
      ")\n",
      "\n",
      "CREATE TABLE Venue_Papers(\n",
      "  venue_id TEXT, -- venue_id\n",
      "  paper_id TEXT, -- paper_id\n",
      "  FOREIGN KEY (venue_id) REFERENCES Venue(id),\n",
      "  FOREIGN KEY (paper_id) REFERENCES Paper(id)\n",
      ")\n",
      "\n",
      "CREATE TABLE Paper_Keywords(\n",
      "  paper_id TEXT, -- paper_id\n",
      "  keyword TEXT, -- a keyword of the paper\n",
      "  FOREIGN KEY (paper_id) REFERENCES Paper(id) \n",
      ")\n",
      "\n",
      "CREATE TABLE Paper_Authors(\n",
      "  paper_id TEXT, -- paper_id\n",
      "  rank INTEGER, -- this author's rank\n",
      "  author_id TEXT, -- author_id\n",
      "  FOREIGN KEY (paper_id) REFERENCES Paper(id),\n",
      "  FOREIGN KEY (author_id) REFERENCES Author(id) \n",
      ")\n",
      "\n",
      "CREATE TABLE Orgnization_Researchers(\n",
      "  affiliation_name TEXT, -- name of affiliation that this researcher once belonged to\n",
      "  author_id TEXT, -- author_id\n",
      "  FOREIGN KEY (author_id) REFERENCES Author(id)\n",
      ")\n",
      "\n",
      "CREATE TABLE Researcher_Interests(\n",
      "  author_id TEXT, -- author_id\n",
      "  tag Text, -- research interest\n",
      "  weight INTEGER, -- weight of this interest\n",
      "  FOREIGN KEY (author_id) REFERENCES Author(id)\n",
      ")\n",
      "\n",
      "\n"
     ]
    }
   ],
   "source": [
    "def get_database_prompt(db_path) -> str:\n",
    "\n",
    "    stmt = ''\n",
    "\n",
    "    conn = sqlite3.connect(db_path)\n",
    "    cur = conn.cursor()\n",
    "\n",
    "    # Fetch names of all tables\n",
    "    cur.execute(\"SELECT name FROM sqlite_master WHERE type='table';\")\n",
    "    tables = cur.fetchall()\n",
    "\n",
    "    # Fech create statements for all tables\n",
    "    for table in tables:\n",
    "        table_name = table[0]\n",
    "        cur.execute(f\"SELECT sql FROM sqlite_master WHERE type='table' AND name='{table_name}';\")\n",
    "        create_statement = cur.fetchone()[0]\n",
    "\n",
    "        stmt += create_statement + '\\n\\n'\n",
    "\n",
    "    conn.close()\n",
    "    return stmt\n",
    "\n",
    "print(get_database_prompt(db_path=db_path))"
   ]
  },
  {
   "cell_type": "code",
   "execution_count": 44,
   "metadata": {},
   "outputs": [
    {
     "data": {
      "text/html": [
       "<div>\n",
       "<style scoped>\n",
       "    .dataframe tbody tr th:only-of-type {\n",
       "        vertical-align: middle;\n",
       "    }\n",
       "\n",
       "    .dataframe tbody tr th {\n",
       "        vertical-align: top;\n",
       "    }\n",
       "\n",
       "    .dataframe thead th {\n",
       "        text-align: right;\n",
       "    }\n",
       "</style>\n",
       "<table border=\"1\" class=\"dataframe\">\n",
       "  <thead>\n",
       "    <tr style=\"text-align: right;\">\n",
       "      <th></th>\n",
       "      <th>id</th>\n",
       "      <th>DisplayName</th>\n",
       "      <th>type</th>\n",
       "      <th>url</th>\n",
       "    </tr>\n",
       "  </thead>\n",
       "  <tbody>\n",
       "    <tr>\n",
       "      <th>0</th>\n",
       "      <td>5f0c1358faabae14decd6074</td>\n",
       "      <td>AMC Networks International Southern Europe</td>\n",
       "      <td>company</td>\n",
       "      <td>https://amcnetworks.es/</td>\n",
       "    </tr>\n",
       "    <tr>\n",
       "      <th>1</th>\n",
       "      <td>5f0c1358faabae14decd6086</td>\n",
       "      <td>Santa Paula High School</td>\n",
       "      <td>school</td>\n",
       "      <td>http://sphs.net</td>\n",
       "    </tr>\n",
       "    <tr>\n",
       "      <th>2</th>\n",
       "      <td>5f0c1358faabae14decd608d</td>\n",
       "      <td>Kewego</td>\n",
       "      <td>company</td>\n",
       "      <td>https://www.unibw.de/home</td>\n",
       "    </tr>\n",
       "    <tr>\n",
       "      <th>3</th>\n",
       "      <td>5f0c1371faabae14decd60b6</td>\n",
       "      <td>Bundeswehr University Munich</td>\n",
       "      <td>university</td>\n",
       "      <td>http://mvhs.nbed.nb.ca/</td>\n",
       "    </tr>\n",
       "    <tr>\n",
       "      <th>4</th>\n",
       "      <td>5f0c1372faabae14decd60de</td>\n",
       "      <td>Sherman High School (Texas)</td>\n",
       "      <td>school</td>\n",
       "      <td>http://adams.sb.school/</td>\n",
       "    </tr>\n",
       "  </tbody>\n",
       "</table>\n",
       "</div>"
      ],
      "text/plain": [
       "                         id                                 DisplayName  \\\n",
       "0  5f0c1358faabae14decd6074  AMC Networks International Southern Europe   \n",
       "1  5f0c1358faabae14decd6086                     Santa Paula High School   \n",
       "2  5f0c1358faabae14decd608d                                      Kewego   \n",
       "3  5f0c1371faabae14decd60b6                Bundeswehr University Munich   \n",
       "4  5f0c1372faabae14decd60de                 Sherman High School (Texas)   \n",
       "\n",
       "         type                        url  \n",
       "0     company    https://amcnetworks.es/  \n",
       "1      school            http://sphs.net  \n",
       "2     company  https://www.unibw.de/home  \n",
       "3  university    http://mvhs.nbed.nb.ca/  \n",
       "4      school    http://adams.sb.school/  "
      ]
     },
     "execution_count": 44,
     "metadata": {},
     "output_type": "execute_result"
    }
   ],
   "source": [
    "# get sample data from a table\n",
    "def get_sample_data(db_path, table_name, tables_info, limit=20) -> pd.DataFrame:\n",
    "\n",
    "    # Extract sample data of each column from given table\n",
    "    columns = [col[0] for col in tables_info[table_name]]\n",
    "\n",
    "    sample_data = None\n",
    "    for i, column in enumerate(columns):\n",
    "        conn = sqlite3.connect(db_path)\n",
    "        query = f\"SELECT {column} FROM {table_name} WHERE {column} IS NOT NULL LIMIT {limit};\" \n",
    "        df = pd.read_sql_query(query, conn)\n",
    "        conn.close()\n",
    "\n",
    "        # concate sample data of each column\n",
    "        if i == 0:\n",
    "            sample_data = df\n",
    "        else:\n",
    "            sample_data = pd.concat([sample_data, df], axis=1)\n",
    "\n",
    "    return sample_data\n",
    "\n",
    "get_sample_data(db_path=db_path, table_name='Affiliation', tables_info=get_tables_info(db_path), limit=5)"
   ]
  },
  {
   "cell_type": "code",
   "execution_count": 58,
   "metadata": {},
   "outputs": [
    {
     "data": {
      "text/plain": [
       "[{'question': 'Report the n_citation of all Paper for which n_citation does not equals to 0.',\n",
       "  'SQL': 'SELECT n_citation FROM Paper WHERE n_citation != 0'},\n",
       " {'question': 'what are the two paper_id of highest rank?',\n",
       "  'SQL': 'SELECT paper_id FROM Paper_Authors ORDER BY rank DESC LIMIT 2'},\n",
       " {'question': 'show the type with showing up fewer than 40 times.',\n",
       "  'SQL': 'SELECT type FROM Affiliation GROUP BY type HAVING COUNT (*) < 40'},\n",
       " {'question': 'How many Researcher_Interests has a weight of more than 1 and a tag is visualization?',\n",
       "  'SQL': 'SELECT COUNT (*) FROM Researcher_Interests WHERE weight > 1 AND tag = \"visualization\"'},\n",
       " {'question': 'what is the position and id of the Author with the top 5 smallest n_citation ?',\n",
       "  'SQL': 'SELECT position , id FROM Author ORDER BY n_citation LIMIT 5'},\n",
       " {'question': 'What is the n_citation value that has the most occurance?',\n",
       "  'SQL': 'SELECT n_citation FROM Paper GROUP BY n_citation ORDER BY count(*) DESC LIMIT 1'},\n",
       " {'question': 'list all information about Affiliation.',\n",
       "  'SQL': 'SELECT * FROM Affiliation'},\n",
       " {'question': 'What is the average and maximum year of each Paper?',\n",
       "  'SQL': 'SELECT avg(year), max(year) FROM Paper'},\n",
       " {'question': 'Find n_pubs and id of the top 3 n_pubs.',\n",
       "  'SQL': 'SELECT n_pubs , id FROM Author ORDER BY n_pubs DESC LIMIT 3'},\n",
       " {'question': 'For every paper_id in Paper_Keywords, return the paper_id, its number of distinct paper_id as well as the total count of Paper_Keywords within that group.',\n",
       "  'SQL': 'SELECT paper_id , count(DISTINCT paper_id) , count(*) FROM Paper_Keywords GROUP BY paper_id'}]"
      ]
     },
     "execution_count": 58,
     "metadata": {},
     "output_type": "execute_result"
    }
   ],
   "source": [
    "def genertate_template_data(db_path, template_path, count = 10) -> dict :\n",
    "    \n",
    "    # Prepare tables info\n",
    "    tables_info = get_tables_info(db_path)\n",
    "    \n",
    "    # Prepare sample data for each table\n",
    "    tables_data = {}\n",
    "    for table_name in tables_info.keys():\n",
    "        tables_data[table_name] = get_sample_data(db_path, table_name, tables_info, limit=20)\n",
    "    \n",
    "    # Load template\n",
    "    with open(template_path, 'r') as f:\n",
    "        templates = json.load(f)\n",
    "\n",
    "    # Generate template data\n",
    "    np.random.seed(0)\n",
    "    generated = []\n",
    "    \n",
    "    for _ in range(count) :\n",
    "        \n",
    "        template = np.random.choice(templates)\n",
    "        t_col = len(template['type']) # column count required in template\n",
    "        t_text_col = len([col for col in template['type'] if col == 'TEXT'])  # text column count required in template\n",
    "        t_number_col = len([col for col in template['type'] if col == 'NUMBER']) # number column count required in template\n",
    "        query = template['query']\n",
    "        question = np.random.choice(template['question']) # a query may have multiple questions\n",
    "\n",
    "        while True : # sample a table until it satisfies the template\n",
    "            table_name = np.random.choice(list(tables_info.keys()))\n",
    "            columns = [col[0] for col in tables_info[table_name]]\n",
    "            text_cols = [col[0] for col in tables_info[table_name] if col[1] == 'TEXT']\n",
    "            number_cols = [col[0] for col in tables_info[table_name] if col[1] == 'INTEGER' or col[1] == 'REAL']\n",
    "            if len(columns) < t_col or len(text_cols) < t_text_col or len(number_cols) < t_number_col :\n",
    "                continue\n",
    "            break\n",
    "        \n",
    "        # Items to fill slots in the template\n",
    "        slot_columns = []\n",
    "        slot_values = []\n",
    "        slot_str = ''\n",
    "\n",
    "        # Select columns that meets datatype requirement\n",
    "        if 'type' in template :\n",
    "            typeres = template['type']\n",
    "            for tp in typeres :\n",
    "                if tp == 'TEXT' :\n",
    "                    slot_columns.append(np.random.choice(text_cols))\n",
    "                elif tp == 'NUMBER' :\n",
    "                    slot_columns.append(np.random.choice(number_cols))\n",
    "                elif tp == 'ANY' :\n",
    "                    slot_columns.append(np.random.choice(columns))\n",
    "        else :\n",
    "            slot_columns = np.random.choice(columns, t_col, replace=False)\n",
    "\n",
    "        # Select values for the selected columns\n",
    "        if 'value_int' in template :\n",
    "            valueres = template['value_int']\n",
    "            for val in valueres :\n",
    "                if val != 'COUNT' :\n",
    "                    col_name = slot_columns[int(val)]\n",
    "                    col_data = tables_data[table_name][col_name]\n",
    "                    slot_values.append(np.random.choice(col_data))\n",
    "                else : # the returned record is limited\n",
    "                    slot_values.append(np.random.randint(1, 100))\n",
    "        \n",
    "        # Selct str for he selected columns\n",
    "        if 'value_str' in template :\n",
    "            col_name = slot_columns[int(template['value_str'][-1])] # one str restriction at most in our template\n",
    "            col_data = tables_data[table_name][col_name]\n",
    "            slot_str = np.random.choice(col_data)\n",
    "\n",
    "        # replace slot with sampled items\n",
    "        def replace(query) :\n",
    "            query = query.replace('{TABLE}', table_name) # fill table name \n",
    "            query = query.replace('{COLUMN}', slot_columns[0]) # fill columns\n",
    "            for i in range(len(slot_columns)-1) :\n",
    "                query = query.replace('{COLUMN'+str(i+2)+'}', slot_columns[i+1]) \n",
    "            if len(slot_values) > 0 : # fill values\n",
    "                query = query.replace('{VALUE_INT}', str(slot_values[0]))\n",
    "                if len(slot_values) > 1 :\n",
    "                    query = query.replace('{VALUE_INT2}', str(slot_str[1]))\n",
    "            if slot_str != '' : # fill str\n",
    "                query = query.replace('{VALUE_STR}', slot_str)\n",
    "            return query\n",
    "        \n",
    "        #print('Table:', table_name)\n",
    "        #print('Columns:', slot_columns)\n",
    "        #print('Values:', slot_values)\n",
    "        #print('Str:', slot_str)\n",
    "        #print('Question:', question)\n",
    "        #print('Query:', query)\n",
    "\n",
    "        query = replace(query)\n",
    "        question = replace(question)\n",
    "        \n",
    "        #print('Question:', question)\n",
    "        #print('Query:', query)\n",
    "        generated.append({'question': question, 'SQL': query})\n",
    "    return generated\n",
    "    \n",
    "        \n",
    "genertate_template_data(db_path=db_path, template_path=template_path, count = 10)"
   ]
  },
  {
   "cell_type": "code",
   "execution_count": 65,
   "metadata": {},
   "outputs": [
    {
     "data": {
      "text/plain": [
       "[{'question': 'Report the n_citation of all Paper for which n_citation does not equals to 0.',\n",
       "  'SQL': 'SELECT n_citation FROM Paper WHERE n_citation != 0'},\n",
       " {'question': 'what are the two paper_id of highest rank?',\n",
       "  'SQL': 'SELECT paper_id FROM Paper_Authors ORDER BY rank DESC LIMIT 2'},\n",
       " {'question': 'show the type with showing up fewer than 40 times.',\n",
       "  'SQL': 'SELECT type FROM Affiliation GROUP BY type HAVING COUNT (*) < 40'},\n",
       " {'question': 'How many Researcher_Interests has a weight of more than 1 and a tag is visualization?',\n",
       "  'SQL': 'SELECT COUNT (*) FROM Researcher_Interests WHERE weight > 1 AND tag = \"visualization\"'},\n",
       " {'question': 'what is the position and id of the Author with the top 5 smallest n_citation ?',\n",
       "  'SQL': 'SELECT position , id FROM Author ORDER BY n_citation LIMIT 5'},\n",
       " {'question': 'What is the n_citation value that has the most occurance?',\n",
       "  'SQL': 'SELECT n_citation FROM Paper GROUP BY n_citation ORDER BY count(*) DESC LIMIT 1'},\n",
       " {'question': 'list all information about Affiliation.',\n",
       "  'SQL': 'SELECT * FROM Affiliation'},\n",
       " {'question': 'What is the average and maximum year of each Paper?',\n",
       "  'SQL': 'SELECT avg(year), max(year) FROM Paper'},\n",
       " {'question': 'Find n_pubs and id of the top 3 n_pubs.',\n",
       "  'SQL': 'SELECT n_pubs , id FROM Author ORDER BY n_pubs DESC LIMIT 3'},\n",
       " {'question': 'For every paper_id in Paper_Keywords, return the paper_id, its number of distinct paper_id as well as the total count of Paper_Keywords within that group.',\n",
       "  'SQL': 'SELECT paper_id , count(DISTINCT paper_id) , count(*) FROM Paper_Keywords GROUP BY paper_id'}]"
      ]
     },
     "execution_count": 65,
     "metadata": {},
     "output_type": "execute_result"
    }
   ],
   "source": [
    "def filter_template_data(data, db_path) -> list :\n",
    "    conn = sqlite3.connect(db_path)\n",
    "    cur = conn.cursor()\n",
    "    filtered = []\n",
    "    for item in data :\n",
    "        try :\n",
    "            cur.execute(item['SQL'])\n",
    "            result = cur.fetchall()\n",
    "            if len(result) > 0 :\n",
    "                filtered.append(item)\n",
    "        except Exception as e :\n",
    "            print(e)\n",
    "            print('Error in SQL:', item['SQL'])\n",
    "    conn.close()\n",
    "    return filtered\n",
    "\n",
    "data = genertate_template_data(db_path=db_path, template_path=template_path, count = 10)\n",
    "data = filter_template_data(data, db_path)\n",
    "data"
   ]
  },
  {
   "cell_type": "code",
   "execution_count": 79,
   "metadata": {},
   "outputs": [
    {
     "name": "stderr",
     "output_type": "stream",
     "text": [
      "  0%|          | 0/10 [00:00<?, ?it/s]"
     ]
    },
    {
     "name": "stdout",
     "output_type": "stream",
     "text": [
      "{'model': 'gpt-3.5-turbo-16k', 'messages': [{'role': 'user', 'content': '[Task Description]\\nYou have a SQLite database. Based on the Schema(with useful comments on columns), you generated plentiful question-query pairs with template, whose readability is terrible. Now, given a question-query pair, you are asked to rewrite the question to enhance its readability with the help of comments in Schema.\\n\\n[Schema]\\n{CREATE TABLE Venue(\\n  id TEXT, -- id\\n  DisplayName TEXT, -- name of the conferenece/joural\\n  PRIMARY KEY (id)\\n)\\n\\nCREATE TABLE Affiliation(\\n  id TEXT, -- id\\n  DisplayName TEXT, -- name of the orgnization\\n  type TEXT, -- orgnization type\\n  url TEXT, -- link of the orgnization\\'s homepage\\n  PRIMARY KEY (id)\\n)\\n\\nCREATE TABLE Author(\\n  id TEXT, -- id\\n  name TEXT, -- name\\n  org TEXT, -- author\\'s current orgnization\\n  position TEXT, -- position\\n  n_pubs INTEGER, -- number of paper publication\\n  n_citation INTEGER, -- number of total citation\\n  h_index INTEGER, -- h-index\\n  PRIMARY KEY (id)\\n)\\n\\nCREATE TABLE Paper(\\n  id TEXT, -- id\\n  title TEXT, -- title\\n  year INTEGER, -- publication year\\n  n_citation INTEGER, -- number of citation\\n  page_start TEXT, -- start page on the publication\\n  page_end TEXT, -- end page on the publication\\n  lang TEXT, -- language\\n  volume TEXT, -- volume of the publicaiton\\n  doi TEXT, -- digital object unique identifier\\n  pdf TEXT, -- pdf view link of the paper\\n  abstract TEXT, -- paper abstract\\n  PRIMARY KEY (id)\\n)\\n\\nCREATE TABLE Venue_Papers(\\n  venue_id TEXT, -- venue_id\\n  paper_id TEXT, -- paper_id\\n  FOREIGN KEY (venue_id) REFERENCES Venue(id),\\n  FOREIGN KEY (paper_id) REFERENCES Paper(id)\\n)\\n\\nCREATE TABLE Paper_Keywords(\\n  paper_id TEXT, -- paper_id\\n  keyword TEXT, -- a keyword of the paper\\n  FOREIGN KEY (paper_id) REFERENCES Paper(id) \\n)\\n\\nCREATE TABLE Paper_Authors(\\n  paper_id TEXT, -- paper_id\\n  rank INTEGER, -- this author\\'s rank\\n  author_id TEXT, -- author_id\\n  FOREIGN KEY (paper_id) REFERENCES Paper(id),\\n  FOREIGN KEY (author_id) REFERENCES Author(id) \\n)\\n\\nCREATE TABLE Orgnization_Researchers(\\n  affiliation_name TEXT, -- name of affiliation that this researcher once belonged to\\n  author_id TEXT, -- author_id\\n  FOREIGN KEY (author_id) REFERENCES Author(id)\\n)\\n\\nCREATE TABLE Researcher_Interests(\\n  author_id TEXT, -- author_id\\n  tag Text, -- research interest\\n  weight INTEGER, -- weight of this interest\\n  FOREIGN KEY (author_id) REFERENCES Author(id)\\n)\\n\\n}\\n\\n[Solution]\\n\\nQ: {How many distinct position are there with tag is high resolution?}\\n{SELECT COUNT(DISTINCT Author.position) FROM Author JOIN Researcher_Interests ON Author.id = Researcher_Interests.author_id WHERE Researcher_Interests.tag = \"high resolution\"}\\nA: {how may different academic positions are there in researchers who have an interest in \"high resolution\"?}\\n\\nQ: {Select the three Debt_Converted_Capital with the biggest Cash_Eq_End_Period from records}\\n{SELECT Debt_Converted_Capital FROM Cash_Flow_Statement ORDER BY Cash_Eq_End_Period DESC LIMIT 3}\\nA: {find me capital converted from debt with top3 cash equivalents closing balance.}\\n\\nQ: {What is the page_end of the records with a keyword of \\'electric vehicle\\' or \\'Renmin Univ\\'?}\\n{SELECT Paper.page_end FROM Paper JOIN Paper_Keywords ON Paper.id = Paper_Keywords.paper_id WHERE Paper_Keywords.keyword = \\'electric vehicle\\' OR Paper_Keywords.keyword = \\'Renmin Univ\\'}\\nA: {For papers having keyword \\'electric vehicle\\' or \\'Renmin Univ\\', what are theirs end page on the publicaiton?}\\n\\nQ: {What is the average Fix_Assets of records grouped by Stk_Name?}\\n{SELECT avg(Balance_Sheet.Fix_Assets) , Basic_Info.Stk_Name FROM Basic_Info JOIN Balance_Sheet ON Basic_Info.Stk_Code = Balance_Sheet.Stk_Code GROUP BY Basic_Info.Stk_Name}\\nA: {find out the average fixed assets of each stock.}\\n\\nQ: {Find the number of records with a h_index of more than 1 for each affiliation_name}\\n{SELECT count(*) , Orgnization_Researchers.affiliation_name FROM Author JOIN Orgnization_Researchers ON Author.id = Orgnization_Researchers.author_id WHERE Author.h_index > 1 GROUP BY Orgnization_Researchers.affiliation_name}\\nA: {for each affiliation, how many researchers whose h_index greater than 1 belongs to it?}\\n\\nQ: {For each Tax_n_Surs, report the Tax_n_Surs, the number of Stk_Name and the total number of records with that Tax_n_Surs.}\\n{SELECT Income_Statement.Tax_n_Surs , count(DISTINCT Basic_Info.Stk_Name) , count(*) FROM Basic_Info JOIN Income_Statement ON Basic_Info.Stk_Code = Income_Statement.Stk_Code GROUP BY Income_Statement.Tax_n_Surs}\\nA: {i want to know how many records and different company names do we have for each taxes and surcharges value, along with the value itself.}\\n\\nQ: {Show DisplayName of any records in which pdf equals //static.aminer.org/pdf/PDF/001/011/809/.pdf}\\n{SELECT Venue.DisplayName FROM Paper JOIN Venue_Papers ON Paper.id = Venue_Papers.paper_id JOIN Venue ON Venue_Papers.venue_id = Venue.id WHERE Paper.pdf = \\'//static.aminer.org/pdf/PDF/001/011/809/.pdf\\'}\\nA: {give me name of the conferenece if anyone of its paper have pdf link same as //static.aminer.org/pdf/PDF/001/011/809/.pdf}\\n\\nQ: {Count how many records that either have a Stk_Name of China Everbright Bank or a Cash_Pay_Invest of 1056100000000.0.}\\n{SELECT count(*) FROM Basic_Info JOIN Cash_Flow_Statement ON Basic_Info.Stk_Code = Cash_Flow_Statement.Stk_Code WHERE Basic_Info.Stk_Name = \"China Everbright Bank\" OR Cash_Flow_Statement.Cash_Pay_Invest = 1056100000000.0 }\\nA: {hoy many records belong to China Everbright Bank or thier cash paid for investment is exactly 1056100000000.0?}\\n\\nQ: {Report all information about records with h_index between 3 and 6 for which affiliation_name is M. D. Anderson Cancer Center, Houston, TX.}\\n{SELECT * FROM Author JOIN Orgnization_Researchers ON Author.id = Orgnization_Researchers.author_id JOIN Affiliation ON Orgnization_Researchers.affiliation_name = Affiliation.DisplayName WHERE Author.h_index BETWEEN 3 AND 6 AND Orgnization_Researchers.affiliation_name = \\\\\"M. D. Anderson Cancer Center, Houston, TX\\\\\"}\\nA: {report all the researcher that belongs to \\'M. D. Anderson Cancer Center, Houston, TX.\\' and have a h-index between 3 and 6.}\\n\\nQ: {What are the 3 Stk_Name in records with highest values of Acc_Deposits}\\n{SELECT Basic_Info.Stk_Name FROM Basic_Info JOIN Balance_Sheet ON Basic_Info.Stk_Code = Balance_Sheet.Stk_Code ORDER BY Balance_Sheet.Acc_Deposits DESC LIMIT 3}\\nA: {witch three companies have the most deposit absorption?}\\n\\nQ: {What are the DisplayName of records published before 1990?}\\n{SELECT Venue.DisplayName FROM Paper JOIN Venue_Papers ON Paper.id = Venue_Papers.paper_id JOIN Venue ON Venue_Papers.venue_id = Venue.id WHERE Paper.year < 1990}\\nA: {what are the names of venue that have papers published before 1990?}\\n\\nQ: {Give the distinct Tot_Liab_Own_Eq for all records in the database.}\\n{SELECT distinct(Tot_Liab_Own_Eq) FROM Balance_Sheet}\\nA: {return the distinct value of total liabilities and owner\\'s equity in our data.}\\n\\nQ: {Report the n_citation of all Paper for which n_citation does not equals to 0.}\\n{SELECT n_citation FROM Paper WHERE n_citation != 0}\\nA:'}], 'temperature': 0.5}\n"
     ]
    },
    {
     "name": "stderr",
     "output_type": "stream",
     "text": [
      " 10%|█         | 1/10 [00:01<00:14,  1.60s/it]"
     ]
    },
    {
     "name": "stdout",
     "output_type": "stream",
     "text": [
      "Report the n_citation of all Paper for which n_citation does not equals to 0.\n",
      "{show me the number of citations for all papers that have at least one citation.}\n",
      "{'model': 'gpt-3.5-turbo-16k', 'messages': [{'role': 'user', 'content': '[Task Description]\\nYou have a SQLite database. Based on the Schema(with useful comments on columns), you generated plentiful question-query pairs with template, whose readability is terrible. Now, given a question-query pair, you are asked to rewrite the question to enhance its readability with the help of comments in Schema.\\n\\n[Schema]\\n{CREATE TABLE Venue(\\n  id TEXT, -- id\\n  DisplayName TEXT, -- name of the conferenece/joural\\n  PRIMARY KEY (id)\\n)\\n\\nCREATE TABLE Affiliation(\\n  id TEXT, -- id\\n  DisplayName TEXT, -- name of the orgnization\\n  type TEXT, -- orgnization type\\n  url TEXT, -- link of the orgnization\\'s homepage\\n  PRIMARY KEY (id)\\n)\\n\\nCREATE TABLE Author(\\n  id TEXT, -- id\\n  name TEXT, -- name\\n  org TEXT, -- author\\'s current orgnization\\n  position TEXT, -- position\\n  n_pubs INTEGER, -- number of paper publication\\n  n_citation INTEGER, -- number of total citation\\n  h_index INTEGER, -- h-index\\n  PRIMARY KEY (id)\\n)\\n\\nCREATE TABLE Paper(\\n  id TEXT, -- id\\n  title TEXT, -- title\\n  year INTEGER, -- publication year\\n  n_citation INTEGER, -- number of citation\\n  page_start TEXT, -- start page on the publication\\n  page_end TEXT, -- end page on the publication\\n  lang TEXT, -- language\\n  volume TEXT, -- volume of the publicaiton\\n  doi TEXT, -- digital object unique identifier\\n  pdf TEXT, -- pdf view link of the paper\\n  abstract TEXT, -- paper abstract\\n  PRIMARY KEY (id)\\n)\\n\\nCREATE TABLE Venue_Papers(\\n  venue_id TEXT, -- venue_id\\n  paper_id TEXT, -- paper_id\\n  FOREIGN KEY (venue_id) REFERENCES Venue(id),\\n  FOREIGN KEY (paper_id) REFERENCES Paper(id)\\n)\\n\\nCREATE TABLE Paper_Keywords(\\n  paper_id TEXT, -- paper_id\\n  keyword TEXT, -- a keyword of the paper\\n  FOREIGN KEY (paper_id) REFERENCES Paper(id) \\n)\\n\\nCREATE TABLE Paper_Authors(\\n  paper_id TEXT, -- paper_id\\n  rank INTEGER, -- this author\\'s rank\\n  author_id TEXT, -- author_id\\n  FOREIGN KEY (paper_id) REFERENCES Paper(id),\\n  FOREIGN KEY (author_id) REFERENCES Author(id) \\n)\\n\\nCREATE TABLE Orgnization_Researchers(\\n  affiliation_name TEXT, -- name of affiliation that this researcher once belonged to\\n  author_id TEXT, -- author_id\\n  FOREIGN KEY (author_id) REFERENCES Author(id)\\n)\\n\\nCREATE TABLE Researcher_Interests(\\n  author_id TEXT, -- author_id\\n  tag Text, -- research interest\\n  weight INTEGER, -- weight of this interest\\n  FOREIGN KEY (author_id) REFERENCES Author(id)\\n)\\n\\n}\\n\\n[Solution]\\n\\nQ: {How many distinct position are there with tag is high resolution?}\\n{SELECT COUNT(DISTINCT Author.position) FROM Author JOIN Researcher_Interests ON Author.id = Researcher_Interests.author_id WHERE Researcher_Interests.tag = \"high resolution\"}\\nA: {how may different academic positions are there in researchers who have an interest in \"high resolution\"?}\\n\\nQ: {Select the three Debt_Converted_Capital with the biggest Cash_Eq_End_Period from records}\\n{SELECT Debt_Converted_Capital FROM Cash_Flow_Statement ORDER BY Cash_Eq_End_Period DESC LIMIT 3}\\nA: {find me capital converted from debt with top3 cash equivalents closing balance.}\\n\\nQ: {What is the page_end of the records with a keyword of \\'electric vehicle\\' or \\'Renmin Univ\\'?}\\n{SELECT Paper.page_end FROM Paper JOIN Paper_Keywords ON Paper.id = Paper_Keywords.paper_id WHERE Paper_Keywords.keyword = \\'electric vehicle\\' OR Paper_Keywords.keyword = \\'Renmin Univ\\'}\\nA: {For papers having keyword \\'electric vehicle\\' or \\'Renmin Univ\\', what are theirs end page on the publicaiton?}\\n\\nQ: {What is the average Fix_Assets of records grouped by Stk_Name?}\\n{SELECT avg(Balance_Sheet.Fix_Assets) , Basic_Info.Stk_Name FROM Basic_Info JOIN Balance_Sheet ON Basic_Info.Stk_Code = Balance_Sheet.Stk_Code GROUP BY Basic_Info.Stk_Name}\\nA: {find out the average fixed assets of each stock.}\\n\\nQ: {Find the number of records with a h_index of more than 1 for each affiliation_name}\\n{SELECT count(*) , Orgnization_Researchers.affiliation_name FROM Author JOIN Orgnization_Researchers ON Author.id = Orgnization_Researchers.author_id WHERE Author.h_index > 1 GROUP BY Orgnization_Researchers.affiliation_name}\\nA: {for each affiliation, how many researchers whose h_index greater than 1 belongs to it?}\\n\\nQ: {For each Tax_n_Surs, report the Tax_n_Surs, the number of Stk_Name and the total number of records with that Tax_n_Surs.}\\n{SELECT Income_Statement.Tax_n_Surs , count(DISTINCT Basic_Info.Stk_Name) , count(*) FROM Basic_Info JOIN Income_Statement ON Basic_Info.Stk_Code = Income_Statement.Stk_Code GROUP BY Income_Statement.Tax_n_Surs}\\nA: {i want to know how many records and different company names do we have for each taxes and surcharges value, along with the value itself.}\\n\\nQ: {Show DisplayName of any records in which pdf equals //static.aminer.org/pdf/PDF/001/011/809/.pdf}\\n{SELECT Venue.DisplayName FROM Paper JOIN Venue_Papers ON Paper.id = Venue_Papers.paper_id JOIN Venue ON Venue_Papers.venue_id = Venue.id WHERE Paper.pdf = \\'//static.aminer.org/pdf/PDF/001/011/809/.pdf\\'}\\nA: {give me name of the conferenece if anyone of its paper have pdf link same as //static.aminer.org/pdf/PDF/001/011/809/.pdf}\\n\\nQ: {Count how many records that either have a Stk_Name of China Everbright Bank or a Cash_Pay_Invest of 1056100000000.0.}\\n{SELECT count(*) FROM Basic_Info JOIN Cash_Flow_Statement ON Basic_Info.Stk_Code = Cash_Flow_Statement.Stk_Code WHERE Basic_Info.Stk_Name = \"China Everbright Bank\" OR Cash_Flow_Statement.Cash_Pay_Invest = 1056100000000.0 }\\nA: {hoy many records belong to China Everbright Bank or thier cash paid for investment is exactly 1056100000000.0?}\\n\\nQ: {Report all information about records with h_index between 3 and 6 for which affiliation_name is M. D. Anderson Cancer Center, Houston, TX.}\\n{SELECT * FROM Author JOIN Orgnization_Researchers ON Author.id = Orgnization_Researchers.author_id JOIN Affiliation ON Orgnization_Researchers.affiliation_name = Affiliation.DisplayName WHERE Author.h_index BETWEEN 3 AND 6 AND Orgnization_Researchers.affiliation_name = \\\\\"M. D. Anderson Cancer Center, Houston, TX\\\\\"}\\nA: {report all the researcher that belongs to \\'M. D. Anderson Cancer Center, Houston, TX.\\' and have a h-index between 3 and 6.}\\n\\nQ: {What are the 3 Stk_Name in records with highest values of Acc_Deposits}\\n{SELECT Basic_Info.Stk_Name FROM Basic_Info JOIN Balance_Sheet ON Basic_Info.Stk_Code = Balance_Sheet.Stk_Code ORDER BY Balance_Sheet.Acc_Deposits DESC LIMIT 3}\\nA: {witch three companies have the most deposit absorption?}\\n\\nQ: {What are the DisplayName of records published before 1990?}\\n{SELECT Venue.DisplayName FROM Paper JOIN Venue_Papers ON Paper.id = Venue_Papers.paper_id JOIN Venue ON Venue_Papers.venue_id = Venue.id WHERE Paper.year < 1990}\\nA: {what are the names of venue that have papers published before 1990?}\\n\\nQ: {Give the distinct Tot_Liab_Own_Eq for all records in the database.}\\n{SELECT distinct(Tot_Liab_Own_Eq) FROM Balance_Sheet}\\nA: {return the distinct value of total liabilities and owner\\'s equity in our data.}\\n\\nQ: {what are the two paper_id of highest rank?}\\n{SELECT paper_id FROM Paper_Authors ORDER BY rank DESC LIMIT 2}\\nA:'}], 'temperature': 0.5}\n"
     ]
    },
    {
     "name": "stderr",
     "output_type": "stream",
     "text": [
      " 20%|██        | 2/10 [00:04<00:18,  2.34s/it]"
     ]
    },
    {
     "name": "stdout",
     "output_type": "stream",
     "text": [
      "what are the two paper_id of highest rank?\n",
      "{which two papers have the highest rank?}\n",
      "{'model': 'gpt-3.5-turbo-16k', 'messages': [{'role': 'user', 'content': '[Task Description]\\nYou have a SQLite database. Based on the Schema(with useful comments on columns), you generated plentiful question-query pairs with template, whose readability is terrible. Now, given a question-query pair, you are asked to rewrite the question to enhance its readability with the help of comments in Schema.\\n\\n[Schema]\\n{CREATE TABLE Venue(\\n  id TEXT, -- id\\n  DisplayName TEXT, -- name of the conferenece/joural\\n  PRIMARY KEY (id)\\n)\\n\\nCREATE TABLE Affiliation(\\n  id TEXT, -- id\\n  DisplayName TEXT, -- name of the orgnization\\n  type TEXT, -- orgnization type\\n  url TEXT, -- link of the orgnization\\'s homepage\\n  PRIMARY KEY (id)\\n)\\n\\nCREATE TABLE Author(\\n  id TEXT, -- id\\n  name TEXT, -- name\\n  org TEXT, -- author\\'s current orgnization\\n  position TEXT, -- position\\n  n_pubs INTEGER, -- number of paper publication\\n  n_citation INTEGER, -- number of total citation\\n  h_index INTEGER, -- h-index\\n  PRIMARY KEY (id)\\n)\\n\\nCREATE TABLE Paper(\\n  id TEXT, -- id\\n  title TEXT, -- title\\n  year INTEGER, -- publication year\\n  n_citation INTEGER, -- number of citation\\n  page_start TEXT, -- start page on the publication\\n  page_end TEXT, -- end page on the publication\\n  lang TEXT, -- language\\n  volume TEXT, -- volume of the publicaiton\\n  doi TEXT, -- digital object unique identifier\\n  pdf TEXT, -- pdf view link of the paper\\n  abstract TEXT, -- paper abstract\\n  PRIMARY KEY (id)\\n)\\n\\nCREATE TABLE Venue_Papers(\\n  venue_id TEXT, -- venue_id\\n  paper_id TEXT, -- paper_id\\n  FOREIGN KEY (venue_id) REFERENCES Venue(id),\\n  FOREIGN KEY (paper_id) REFERENCES Paper(id)\\n)\\n\\nCREATE TABLE Paper_Keywords(\\n  paper_id TEXT, -- paper_id\\n  keyword TEXT, -- a keyword of the paper\\n  FOREIGN KEY (paper_id) REFERENCES Paper(id) \\n)\\n\\nCREATE TABLE Paper_Authors(\\n  paper_id TEXT, -- paper_id\\n  rank INTEGER, -- this author\\'s rank\\n  author_id TEXT, -- author_id\\n  FOREIGN KEY (paper_id) REFERENCES Paper(id),\\n  FOREIGN KEY (author_id) REFERENCES Author(id) \\n)\\n\\nCREATE TABLE Orgnization_Researchers(\\n  affiliation_name TEXT, -- name of affiliation that this researcher once belonged to\\n  author_id TEXT, -- author_id\\n  FOREIGN KEY (author_id) REFERENCES Author(id)\\n)\\n\\nCREATE TABLE Researcher_Interests(\\n  author_id TEXT, -- author_id\\n  tag Text, -- research interest\\n  weight INTEGER, -- weight of this interest\\n  FOREIGN KEY (author_id) REFERENCES Author(id)\\n)\\n\\n}\\n\\n[Solution]\\n\\nQ: {How many distinct position are there with tag is high resolution?}\\n{SELECT COUNT(DISTINCT Author.position) FROM Author JOIN Researcher_Interests ON Author.id = Researcher_Interests.author_id WHERE Researcher_Interests.tag = \"high resolution\"}\\nA: {how may different academic positions are there in researchers who have an interest in \"high resolution\"?}\\n\\nQ: {Select the three Debt_Converted_Capital with the biggest Cash_Eq_End_Period from records}\\n{SELECT Debt_Converted_Capital FROM Cash_Flow_Statement ORDER BY Cash_Eq_End_Period DESC LIMIT 3}\\nA: {find me capital converted from debt with top3 cash equivalents closing balance.}\\n\\nQ: {What is the page_end of the records with a keyword of \\'electric vehicle\\' or \\'Renmin Univ\\'?}\\n{SELECT Paper.page_end FROM Paper JOIN Paper_Keywords ON Paper.id = Paper_Keywords.paper_id WHERE Paper_Keywords.keyword = \\'electric vehicle\\' OR Paper_Keywords.keyword = \\'Renmin Univ\\'}\\nA: {For papers having keyword \\'electric vehicle\\' or \\'Renmin Univ\\', what are theirs end page on the publicaiton?}\\n\\nQ: {What is the average Fix_Assets of records grouped by Stk_Name?}\\n{SELECT avg(Balance_Sheet.Fix_Assets) , Basic_Info.Stk_Name FROM Basic_Info JOIN Balance_Sheet ON Basic_Info.Stk_Code = Balance_Sheet.Stk_Code GROUP BY Basic_Info.Stk_Name}\\nA: {find out the average fixed assets of each stock.}\\n\\nQ: {Find the number of records with a h_index of more than 1 for each affiliation_name}\\n{SELECT count(*) , Orgnization_Researchers.affiliation_name FROM Author JOIN Orgnization_Researchers ON Author.id = Orgnization_Researchers.author_id WHERE Author.h_index > 1 GROUP BY Orgnization_Researchers.affiliation_name}\\nA: {for each affiliation, how many researchers whose h_index greater than 1 belongs to it?}\\n\\nQ: {For each Tax_n_Surs, report the Tax_n_Surs, the number of Stk_Name and the total number of records with that Tax_n_Surs.}\\n{SELECT Income_Statement.Tax_n_Surs , count(DISTINCT Basic_Info.Stk_Name) , count(*) FROM Basic_Info JOIN Income_Statement ON Basic_Info.Stk_Code = Income_Statement.Stk_Code GROUP BY Income_Statement.Tax_n_Surs}\\nA: {i want to know how many records and different company names do we have for each taxes and surcharges value, along with the value itself.}\\n\\nQ: {Show DisplayName of any records in which pdf equals //static.aminer.org/pdf/PDF/001/011/809/.pdf}\\n{SELECT Venue.DisplayName FROM Paper JOIN Venue_Papers ON Paper.id = Venue_Papers.paper_id JOIN Venue ON Venue_Papers.venue_id = Venue.id WHERE Paper.pdf = \\'//static.aminer.org/pdf/PDF/001/011/809/.pdf\\'}\\nA: {give me name of the conferenece if anyone of its paper have pdf link same as //static.aminer.org/pdf/PDF/001/011/809/.pdf}\\n\\nQ: {Count how many records that either have a Stk_Name of China Everbright Bank or a Cash_Pay_Invest of 1056100000000.0.}\\n{SELECT count(*) FROM Basic_Info JOIN Cash_Flow_Statement ON Basic_Info.Stk_Code = Cash_Flow_Statement.Stk_Code WHERE Basic_Info.Stk_Name = \"China Everbright Bank\" OR Cash_Flow_Statement.Cash_Pay_Invest = 1056100000000.0 }\\nA: {hoy many records belong to China Everbright Bank or thier cash paid for investment is exactly 1056100000000.0?}\\n\\nQ: {Report all information about records with h_index between 3 and 6 for which affiliation_name is M. D. Anderson Cancer Center, Houston, TX.}\\n{SELECT * FROM Author JOIN Orgnization_Researchers ON Author.id = Orgnization_Researchers.author_id JOIN Affiliation ON Orgnization_Researchers.affiliation_name = Affiliation.DisplayName WHERE Author.h_index BETWEEN 3 AND 6 AND Orgnization_Researchers.affiliation_name = \\\\\"M. D. Anderson Cancer Center, Houston, TX\\\\\"}\\nA: {report all the researcher that belongs to \\'M. D. Anderson Cancer Center, Houston, TX.\\' and have a h-index between 3 and 6.}\\n\\nQ: {What are the 3 Stk_Name in records with highest values of Acc_Deposits}\\n{SELECT Basic_Info.Stk_Name FROM Basic_Info JOIN Balance_Sheet ON Basic_Info.Stk_Code = Balance_Sheet.Stk_Code ORDER BY Balance_Sheet.Acc_Deposits DESC LIMIT 3}\\nA: {witch three companies have the most deposit absorption?}\\n\\nQ: {What are the DisplayName of records published before 1990?}\\n{SELECT Venue.DisplayName FROM Paper JOIN Venue_Papers ON Paper.id = Venue_Papers.paper_id JOIN Venue ON Venue_Papers.venue_id = Venue.id WHERE Paper.year < 1990}\\nA: {what are the names of venue that have papers published before 1990?}\\n\\nQ: {Give the distinct Tot_Liab_Own_Eq for all records in the database.}\\n{SELECT distinct(Tot_Liab_Own_Eq) FROM Balance_Sheet}\\nA: {return the distinct value of total liabilities and owner\\'s equity in our data.}\\n\\nQ: {show the type with showing up fewer than 40 times.}\\n{SELECT type FROM Affiliation GROUP BY type HAVING COUNT (*) < 40}\\nA:'}], 'temperature': 0.5}\n"
     ]
    },
    {
     "name": "stderr",
     "output_type": "stream",
     "text": [
      " 30%|███       | 3/10 [00:06<00:15,  2.25s/it]"
     ]
    },
    {
     "name": "stdout",
     "output_type": "stream",
     "text": [
      "show the type with showing up fewer than 40 times.\n",
      "{show me the types of organizations that appear less than 40 times in the database.}\n",
      "{'model': 'gpt-3.5-turbo-16k', 'messages': [{'role': 'user', 'content': '[Task Description]\\nYou have a SQLite database. Based on the Schema(with useful comments on columns), you generated plentiful question-query pairs with template, whose readability is terrible. Now, given a question-query pair, you are asked to rewrite the question to enhance its readability with the help of comments in Schema.\\n\\n[Schema]\\n{CREATE TABLE Venue(\\n  id TEXT, -- id\\n  DisplayName TEXT, -- name of the conferenece/joural\\n  PRIMARY KEY (id)\\n)\\n\\nCREATE TABLE Affiliation(\\n  id TEXT, -- id\\n  DisplayName TEXT, -- name of the orgnization\\n  type TEXT, -- orgnization type\\n  url TEXT, -- link of the orgnization\\'s homepage\\n  PRIMARY KEY (id)\\n)\\n\\nCREATE TABLE Author(\\n  id TEXT, -- id\\n  name TEXT, -- name\\n  org TEXT, -- author\\'s current orgnization\\n  position TEXT, -- position\\n  n_pubs INTEGER, -- number of paper publication\\n  n_citation INTEGER, -- number of total citation\\n  h_index INTEGER, -- h-index\\n  PRIMARY KEY (id)\\n)\\n\\nCREATE TABLE Paper(\\n  id TEXT, -- id\\n  title TEXT, -- title\\n  year INTEGER, -- publication year\\n  n_citation INTEGER, -- number of citation\\n  page_start TEXT, -- start page on the publication\\n  page_end TEXT, -- end page on the publication\\n  lang TEXT, -- language\\n  volume TEXT, -- volume of the publicaiton\\n  doi TEXT, -- digital object unique identifier\\n  pdf TEXT, -- pdf view link of the paper\\n  abstract TEXT, -- paper abstract\\n  PRIMARY KEY (id)\\n)\\n\\nCREATE TABLE Venue_Papers(\\n  venue_id TEXT, -- venue_id\\n  paper_id TEXT, -- paper_id\\n  FOREIGN KEY (venue_id) REFERENCES Venue(id),\\n  FOREIGN KEY (paper_id) REFERENCES Paper(id)\\n)\\n\\nCREATE TABLE Paper_Keywords(\\n  paper_id TEXT, -- paper_id\\n  keyword TEXT, -- a keyword of the paper\\n  FOREIGN KEY (paper_id) REFERENCES Paper(id) \\n)\\n\\nCREATE TABLE Paper_Authors(\\n  paper_id TEXT, -- paper_id\\n  rank INTEGER, -- this author\\'s rank\\n  author_id TEXT, -- author_id\\n  FOREIGN KEY (paper_id) REFERENCES Paper(id),\\n  FOREIGN KEY (author_id) REFERENCES Author(id) \\n)\\n\\nCREATE TABLE Orgnization_Researchers(\\n  affiliation_name TEXT, -- name of affiliation that this researcher once belonged to\\n  author_id TEXT, -- author_id\\n  FOREIGN KEY (author_id) REFERENCES Author(id)\\n)\\n\\nCREATE TABLE Researcher_Interests(\\n  author_id TEXT, -- author_id\\n  tag Text, -- research interest\\n  weight INTEGER, -- weight of this interest\\n  FOREIGN KEY (author_id) REFERENCES Author(id)\\n)\\n\\n}\\n\\n[Solution]\\n\\nQ: {How many distinct position are there with tag is high resolution?}\\n{SELECT COUNT(DISTINCT Author.position) FROM Author JOIN Researcher_Interests ON Author.id = Researcher_Interests.author_id WHERE Researcher_Interests.tag = \"high resolution\"}\\nA: {how may different academic positions are there in researchers who have an interest in \"high resolution\"?}\\n\\nQ: {Select the three Debt_Converted_Capital with the biggest Cash_Eq_End_Period from records}\\n{SELECT Debt_Converted_Capital FROM Cash_Flow_Statement ORDER BY Cash_Eq_End_Period DESC LIMIT 3}\\nA: {find me capital converted from debt with top3 cash equivalents closing balance.}\\n\\nQ: {What is the page_end of the records with a keyword of \\'electric vehicle\\' or \\'Renmin Univ\\'?}\\n{SELECT Paper.page_end FROM Paper JOIN Paper_Keywords ON Paper.id = Paper_Keywords.paper_id WHERE Paper_Keywords.keyword = \\'electric vehicle\\' OR Paper_Keywords.keyword = \\'Renmin Univ\\'}\\nA: {For papers having keyword \\'electric vehicle\\' or \\'Renmin Univ\\', what are theirs end page on the publicaiton?}\\n\\nQ: {What is the average Fix_Assets of records grouped by Stk_Name?}\\n{SELECT avg(Balance_Sheet.Fix_Assets) , Basic_Info.Stk_Name FROM Basic_Info JOIN Balance_Sheet ON Basic_Info.Stk_Code = Balance_Sheet.Stk_Code GROUP BY Basic_Info.Stk_Name}\\nA: {find out the average fixed assets of each stock.}\\n\\nQ: {Find the number of records with a h_index of more than 1 for each affiliation_name}\\n{SELECT count(*) , Orgnization_Researchers.affiliation_name FROM Author JOIN Orgnization_Researchers ON Author.id = Orgnization_Researchers.author_id WHERE Author.h_index > 1 GROUP BY Orgnization_Researchers.affiliation_name}\\nA: {for each affiliation, how many researchers whose h_index greater than 1 belongs to it?}\\n\\nQ: {For each Tax_n_Surs, report the Tax_n_Surs, the number of Stk_Name and the total number of records with that Tax_n_Surs.}\\n{SELECT Income_Statement.Tax_n_Surs , count(DISTINCT Basic_Info.Stk_Name) , count(*) FROM Basic_Info JOIN Income_Statement ON Basic_Info.Stk_Code = Income_Statement.Stk_Code GROUP BY Income_Statement.Tax_n_Surs}\\nA: {i want to know how many records and different company names do we have for each taxes and surcharges value, along with the value itself.}\\n\\nQ: {Show DisplayName of any records in which pdf equals //static.aminer.org/pdf/PDF/001/011/809/.pdf}\\n{SELECT Venue.DisplayName FROM Paper JOIN Venue_Papers ON Paper.id = Venue_Papers.paper_id JOIN Venue ON Venue_Papers.venue_id = Venue.id WHERE Paper.pdf = \\'//static.aminer.org/pdf/PDF/001/011/809/.pdf\\'}\\nA: {give me name of the conferenece if anyone of its paper have pdf link same as //static.aminer.org/pdf/PDF/001/011/809/.pdf}\\n\\nQ: {Count how many records that either have a Stk_Name of China Everbright Bank or a Cash_Pay_Invest of 1056100000000.0.}\\n{SELECT count(*) FROM Basic_Info JOIN Cash_Flow_Statement ON Basic_Info.Stk_Code = Cash_Flow_Statement.Stk_Code WHERE Basic_Info.Stk_Name = \"China Everbright Bank\" OR Cash_Flow_Statement.Cash_Pay_Invest = 1056100000000.0 }\\nA: {hoy many records belong to China Everbright Bank or thier cash paid for investment is exactly 1056100000000.0?}\\n\\nQ: {Report all information about records with h_index between 3 and 6 for which affiliation_name is M. D. Anderson Cancer Center, Houston, TX.}\\n{SELECT * FROM Author JOIN Orgnization_Researchers ON Author.id = Orgnization_Researchers.author_id JOIN Affiliation ON Orgnization_Researchers.affiliation_name = Affiliation.DisplayName WHERE Author.h_index BETWEEN 3 AND 6 AND Orgnization_Researchers.affiliation_name = \\\\\"M. D. Anderson Cancer Center, Houston, TX\\\\\"}\\nA: {report all the researcher that belongs to \\'M. D. Anderson Cancer Center, Houston, TX.\\' and have a h-index between 3 and 6.}\\n\\nQ: {What are the 3 Stk_Name in records with highest values of Acc_Deposits}\\n{SELECT Basic_Info.Stk_Name FROM Basic_Info JOIN Balance_Sheet ON Basic_Info.Stk_Code = Balance_Sheet.Stk_Code ORDER BY Balance_Sheet.Acc_Deposits DESC LIMIT 3}\\nA: {witch three companies have the most deposit absorption?}\\n\\nQ: {What are the DisplayName of records published before 1990?}\\n{SELECT Venue.DisplayName FROM Paper JOIN Venue_Papers ON Paper.id = Venue_Papers.paper_id JOIN Venue ON Venue_Papers.venue_id = Venue.id WHERE Paper.year < 1990}\\nA: {what are the names of venue that have papers published before 1990?}\\n\\nQ: {Give the distinct Tot_Liab_Own_Eq for all records in the database.}\\n{SELECT distinct(Tot_Liab_Own_Eq) FROM Balance_Sheet}\\nA: {return the distinct value of total liabilities and owner\\'s equity in our data.}\\n\\nQ: {How many Researcher_Interests has a weight of more than 1 and a tag is visualization?}\\n{SELECT COUNT (*) FROM Researcher_Interests WHERE weight > 1 AND tag = \"visualization\"}\\nA:'}], 'temperature': 0.5}\n"
     ]
    },
    {
     "name": "stderr",
     "output_type": "stream",
     "text": [
      " 40%|████      | 4/10 [00:08<00:12,  2.05s/it]"
     ]
    },
    {
     "name": "stdout",
     "output_type": "stream",
     "text": [
      "How many Researcher_Interests has a weight of more than 1 and a tag is visualization?\n",
      "{how many researchers have an interest in visualization with a weight greater than 1?}\n",
      "{'model': 'gpt-3.5-turbo-16k', 'messages': [{'role': 'user', 'content': '[Task Description]\\nYou have a SQLite database. Based on the Schema(with useful comments on columns), you generated plentiful question-query pairs with template, whose readability is terrible. Now, given a question-query pair, you are asked to rewrite the question to enhance its readability with the help of comments in Schema.\\n\\n[Schema]\\n{CREATE TABLE Venue(\\n  id TEXT, -- id\\n  DisplayName TEXT, -- name of the conferenece/joural\\n  PRIMARY KEY (id)\\n)\\n\\nCREATE TABLE Affiliation(\\n  id TEXT, -- id\\n  DisplayName TEXT, -- name of the orgnization\\n  type TEXT, -- orgnization type\\n  url TEXT, -- link of the orgnization\\'s homepage\\n  PRIMARY KEY (id)\\n)\\n\\nCREATE TABLE Author(\\n  id TEXT, -- id\\n  name TEXT, -- name\\n  org TEXT, -- author\\'s current orgnization\\n  position TEXT, -- position\\n  n_pubs INTEGER, -- number of paper publication\\n  n_citation INTEGER, -- number of total citation\\n  h_index INTEGER, -- h-index\\n  PRIMARY KEY (id)\\n)\\n\\nCREATE TABLE Paper(\\n  id TEXT, -- id\\n  title TEXT, -- title\\n  year INTEGER, -- publication year\\n  n_citation INTEGER, -- number of citation\\n  page_start TEXT, -- start page on the publication\\n  page_end TEXT, -- end page on the publication\\n  lang TEXT, -- language\\n  volume TEXT, -- volume of the publicaiton\\n  doi TEXT, -- digital object unique identifier\\n  pdf TEXT, -- pdf view link of the paper\\n  abstract TEXT, -- paper abstract\\n  PRIMARY KEY (id)\\n)\\n\\nCREATE TABLE Venue_Papers(\\n  venue_id TEXT, -- venue_id\\n  paper_id TEXT, -- paper_id\\n  FOREIGN KEY (venue_id) REFERENCES Venue(id),\\n  FOREIGN KEY (paper_id) REFERENCES Paper(id)\\n)\\n\\nCREATE TABLE Paper_Keywords(\\n  paper_id TEXT, -- paper_id\\n  keyword TEXT, -- a keyword of the paper\\n  FOREIGN KEY (paper_id) REFERENCES Paper(id) \\n)\\n\\nCREATE TABLE Paper_Authors(\\n  paper_id TEXT, -- paper_id\\n  rank INTEGER, -- this author\\'s rank\\n  author_id TEXT, -- author_id\\n  FOREIGN KEY (paper_id) REFERENCES Paper(id),\\n  FOREIGN KEY (author_id) REFERENCES Author(id) \\n)\\n\\nCREATE TABLE Orgnization_Researchers(\\n  affiliation_name TEXT, -- name of affiliation that this researcher once belonged to\\n  author_id TEXT, -- author_id\\n  FOREIGN KEY (author_id) REFERENCES Author(id)\\n)\\n\\nCREATE TABLE Researcher_Interests(\\n  author_id TEXT, -- author_id\\n  tag Text, -- research interest\\n  weight INTEGER, -- weight of this interest\\n  FOREIGN KEY (author_id) REFERENCES Author(id)\\n)\\n\\n}\\n\\n[Solution]\\n\\nQ: {How many distinct position are there with tag is high resolution?}\\n{SELECT COUNT(DISTINCT Author.position) FROM Author JOIN Researcher_Interests ON Author.id = Researcher_Interests.author_id WHERE Researcher_Interests.tag = \"high resolution\"}\\nA: {how may different academic positions are there in researchers who have an interest in \"high resolution\"?}\\n\\nQ: {Select the three Debt_Converted_Capital with the biggest Cash_Eq_End_Period from records}\\n{SELECT Debt_Converted_Capital FROM Cash_Flow_Statement ORDER BY Cash_Eq_End_Period DESC LIMIT 3}\\nA: {find me capital converted from debt with top3 cash equivalents closing balance.}\\n\\nQ: {What is the page_end of the records with a keyword of \\'electric vehicle\\' or \\'Renmin Univ\\'?}\\n{SELECT Paper.page_end FROM Paper JOIN Paper_Keywords ON Paper.id = Paper_Keywords.paper_id WHERE Paper_Keywords.keyword = \\'electric vehicle\\' OR Paper_Keywords.keyword = \\'Renmin Univ\\'}\\nA: {For papers having keyword \\'electric vehicle\\' or \\'Renmin Univ\\', what are theirs end page on the publicaiton?}\\n\\nQ: {What is the average Fix_Assets of records grouped by Stk_Name?}\\n{SELECT avg(Balance_Sheet.Fix_Assets) , Basic_Info.Stk_Name FROM Basic_Info JOIN Balance_Sheet ON Basic_Info.Stk_Code = Balance_Sheet.Stk_Code GROUP BY Basic_Info.Stk_Name}\\nA: {find out the average fixed assets of each stock.}\\n\\nQ: {Find the number of records with a h_index of more than 1 for each affiliation_name}\\n{SELECT count(*) , Orgnization_Researchers.affiliation_name FROM Author JOIN Orgnization_Researchers ON Author.id = Orgnization_Researchers.author_id WHERE Author.h_index > 1 GROUP BY Orgnization_Researchers.affiliation_name}\\nA: {for each affiliation, how many researchers whose h_index greater than 1 belongs to it?}\\n\\nQ: {For each Tax_n_Surs, report the Tax_n_Surs, the number of Stk_Name and the total number of records with that Tax_n_Surs.}\\n{SELECT Income_Statement.Tax_n_Surs , count(DISTINCT Basic_Info.Stk_Name) , count(*) FROM Basic_Info JOIN Income_Statement ON Basic_Info.Stk_Code = Income_Statement.Stk_Code GROUP BY Income_Statement.Tax_n_Surs}\\nA: {i want to know how many records and different company names do we have for each taxes and surcharges value, along with the value itself.}\\n\\nQ: {Show DisplayName of any records in which pdf equals //static.aminer.org/pdf/PDF/001/011/809/.pdf}\\n{SELECT Venue.DisplayName FROM Paper JOIN Venue_Papers ON Paper.id = Venue_Papers.paper_id JOIN Venue ON Venue_Papers.venue_id = Venue.id WHERE Paper.pdf = \\'//static.aminer.org/pdf/PDF/001/011/809/.pdf\\'}\\nA: {give me name of the conferenece if anyone of its paper have pdf link same as //static.aminer.org/pdf/PDF/001/011/809/.pdf}\\n\\nQ: {Count how many records that either have a Stk_Name of China Everbright Bank or a Cash_Pay_Invest of 1056100000000.0.}\\n{SELECT count(*) FROM Basic_Info JOIN Cash_Flow_Statement ON Basic_Info.Stk_Code = Cash_Flow_Statement.Stk_Code WHERE Basic_Info.Stk_Name = \"China Everbright Bank\" OR Cash_Flow_Statement.Cash_Pay_Invest = 1056100000000.0 }\\nA: {hoy many records belong to China Everbright Bank or thier cash paid for investment is exactly 1056100000000.0?}\\n\\nQ: {Report all information about records with h_index between 3 and 6 for which affiliation_name is M. D. Anderson Cancer Center, Houston, TX.}\\n{SELECT * FROM Author JOIN Orgnization_Researchers ON Author.id = Orgnization_Researchers.author_id JOIN Affiliation ON Orgnization_Researchers.affiliation_name = Affiliation.DisplayName WHERE Author.h_index BETWEEN 3 AND 6 AND Orgnization_Researchers.affiliation_name = \\\\\"M. D. Anderson Cancer Center, Houston, TX\\\\\"}\\nA: {report all the researcher that belongs to \\'M. D. Anderson Cancer Center, Houston, TX.\\' and have a h-index between 3 and 6.}\\n\\nQ: {What are the 3 Stk_Name in records with highest values of Acc_Deposits}\\n{SELECT Basic_Info.Stk_Name FROM Basic_Info JOIN Balance_Sheet ON Basic_Info.Stk_Code = Balance_Sheet.Stk_Code ORDER BY Balance_Sheet.Acc_Deposits DESC LIMIT 3}\\nA: {witch three companies have the most deposit absorption?}\\n\\nQ: {What are the DisplayName of records published before 1990?}\\n{SELECT Venue.DisplayName FROM Paper JOIN Venue_Papers ON Paper.id = Venue_Papers.paper_id JOIN Venue ON Venue_Papers.venue_id = Venue.id WHERE Paper.year < 1990}\\nA: {what are the names of venue that have papers published before 1990?}\\n\\nQ: {Give the distinct Tot_Liab_Own_Eq for all records in the database.}\\n{SELECT distinct(Tot_Liab_Own_Eq) FROM Balance_Sheet}\\nA: {return the distinct value of total liabilities and owner\\'s equity in our data.}\\n\\nQ: {what is the position and id of the Author with the top 5 smallest n_citation ?}\\n{SELECT position , id FROM Author ORDER BY n_citation LIMIT 5}\\nA:'}], 'temperature': 0.5}\n"
     ]
    },
    {
     "name": "stderr",
     "output_type": "stream",
     "text": [
      " 50%|█████     | 5/10 [00:10<00:10,  2.17s/it]"
     ]
    },
    {
     "name": "stdout",
     "output_type": "stream",
     "text": [
      "what is the position and id of the Author with the top 5 smallest n_citation ?\n",
      "{what is the position and id of the top 5 authors with the fewest number of citations?}\n",
      "{'model': 'gpt-3.5-turbo-16k', 'messages': [{'role': 'user', 'content': '[Task Description]\\nYou have a SQLite database. Based on the Schema(with useful comments on columns), you generated plentiful question-query pairs with template, whose readability is terrible. Now, given a question-query pair, you are asked to rewrite the question to enhance its readability with the help of comments in Schema.\\n\\n[Schema]\\n{CREATE TABLE Venue(\\n  id TEXT, -- id\\n  DisplayName TEXT, -- name of the conferenece/joural\\n  PRIMARY KEY (id)\\n)\\n\\nCREATE TABLE Affiliation(\\n  id TEXT, -- id\\n  DisplayName TEXT, -- name of the orgnization\\n  type TEXT, -- orgnization type\\n  url TEXT, -- link of the orgnization\\'s homepage\\n  PRIMARY KEY (id)\\n)\\n\\nCREATE TABLE Author(\\n  id TEXT, -- id\\n  name TEXT, -- name\\n  org TEXT, -- author\\'s current orgnization\\n  position TEXT, -- position\\n  n_pubs INTEGER, -- number of paper publication\\n  n_citation INTEGER, -- number of total citation\\n  h_index INTEGER, -- h-index\\n  PRIMARY KEY (id)\\n)\\n\\nCREATE TABLE Paper(\\n  id TEXT, -- id\\n  title TEXT, -- title\\n  year INTEGER, -- publication year\\n  n_citation INTEGER, -- number of citation\\n  page_start TEXT, -- start page on the publication\\n  page_end TEXT, -- end page on the publication\\n  lang TEXT, -- language\\n  volume TEXT, -- volume of the publicaiton\\n  doi TEXT, -- digital object unique identifier\\n  pdf TEXT, -- pdf view link of the paper\\n  abstract TEXT, -- paper abstract\\n  PRIMARY KEY (id)\\n)\\n\\nCREATE TABLE Venue_Papers(\\n  venue_id TEXT, -- venue_id\\n  paper_id TEXT, -- paper_id\\n  FOREIGN KEY (venue_id) REFERENCES Venue(id),\\n  FOREIGN KEY (paper_id) REFERENCES Paper(id)\\n)\\n\\nCREATE TABLE Paper_Keywords(\\n  paper_id TEXT, -- paper_id\\n  keyword TEXT, -- a keyword of the paper\\n  FOREIGN KEY (paper_id) REFERENCES Paper(id) \\n)\\n\\nCREATE TABLE Paper_Authors(\\n  paper_id TEXT, -- paper_id\\n  rank INTEGER, -- this author\\'s rank\\n  author_id TEXT, -- author_id\\n  FOREIGN KEY (paper_id) REFERENCES Paper(id),\\n  FOREIGN KEY (author_id) REFERENCES Author(id) \\n)\\n\\nCREATE TABLE Orgnization_Researchers(\\n  affiliation_name TEXT, -- name of affiliation that this researcher once belonged to\\n  author_id TEXT, -- author_id\\n  FOREIGN KEY (author_id) REFERENCES Author(id)\\n)\\n\\nCREATE TABLE Researcher_Interests(\\n  author_id TEXT, -- author_id\\n  tag Text, -- research interest\\n  weight INTEGER, -- weight of this interest\\n  FOREIGN KEY (author_id) REFERENCES Author(id)\\n)\\n\\n}\\n\\n[Solution]\\n\\nQ: {How many distinct position are there with tag is high resolution?}\\n{SELECT COUNT(DISTINCT Author.position) FROM Author JOIN Researcher_Interests ON Author.id = Researcher_Interests.author_id WHERE Researcher_Interests.tag = \"high resolution\"}\\nA: {how may different academic positions are there in researchers who have an interest in \"high resolution\"?}\\n\\nQ: {Select the three Debt_Converted_Capital with the biggest Cash_Eq_End_Period from records}\\n{SELECT Debt_Converted_Capital FROM Cash_Flow_Statement ORDER BY Cash_Eq_End_Period DESC LIMIT 3}\\nA: {find me capital converted from debt with top3 cash equivalents closing balance.}\\n\\nQ: {What is the page_end of the records with a keyword of \\'electric vehicle\\' or \\'Renmin Univ\\'?}\\n{SELECT Paper.page_end FROM Paper JOIN Paper_Keywords ON Paper.id = Paper_Keywords.paper_id WHERE Paper_Keywords.keyword = \\'electric vehicle\\' OR Paper_Keywords.keyword = \\'Renmin Univ\\'}\\nA: {For papers having keyword \\'electric vehicle\\' or \\'Renmin Univ\\', what are theirs end page on the publicaiton?}\\n\\nQ: {What is the average Fix_Assets of records grouped by Stk_Name?}\\n{SELECT avg(Balance_Sheet.Fix_Assets) , Basic_Info.Stk_Name FROM Basic_Info JOIN Balance_Sheet ON Basic_Info.Stk_Code = Balance_Sheet.Stk_Code GROUP BY Basic_Info.Stk_Name}\\nA: {find out the average fixed assets of each stock.}\\n\\nQ: {Find the number of records with a h_index of more than 1 for each affiliation_name}\\n{SELECT count(*) , Orgnization_Researchers.affiliation_name FROM Author JOIN Orgnization_Researchers ON Author.id = Orgnization_Researchers.author_id WHERE Author.h_index > 1 GROUP BY Orgnization_Researchers.affiliation_name}\\nA: {for each affiliation, how many researchers whose h_index greater than 1 belongs to it?}\\n\\nQ: {For each Tax_n_Surs, report the Tax_n_Surs, the number of Stk_Name and the total number of records with that Tax_n_Surs.}\\n{SELECT Income_Statement.Tax_n_Surs , count(DISTINCT Basic_Info.Stk_Name) , count(*) FROM Basic_Info JOIN Income_Statement ON Basic_Info.Stk_Code = Income_Statement.Stk_Code GROUP BY Income_Statement.Tax_n_Surs}\\nA: {i want to know how many records and different company names do we have for each taxes and surcharges value, along with the value itself.}\\n\\nQ: {Show DisplayName of any records in which pdf equals //static.aminer.org/pdf/PDF/001/011/809/.pdf}\\n{SELECT Venue.DisplayName FROM Paper JOIN Venue_Papers ON Paper.id = Venue_Papers.paper_id JOIN Venue ON Venue_Papers.venue_id = Venue.id WHERE Paper.pdf = \\'//static.aminer.org/pdf/PDF/001/011/809/.pdf\\'}\\nA: {give me name of the conferenece if anyone of its paper have pdf link same as //static.aminer.org/pdf/PDF/001/011/809/.pdf}\\n\\nQ: {Count how many records that either have a Stk_Name of China Everbright Bank or a Cash_Pay_Invest of 1056100000000.0.}\\n{SELECT count(*) FROM Basic_Info JOIN Cash_Flow_Statement ON Basic_Info.Stk_Code = Cash_Flow_Statement.Stk_Code WHERE Basic_Info.Stk_Name = \"China Everbright Bank\" OR Cash_Flow_Statement.Cash_Pay_Invest = 1056100000000.0 }\\nA: {hoy many records belong to China Everbright Bank or thier cash paid for investment is exactly 1056100000000.0?}\\n\\nQ: {Report all information about records with h_index between 3 and 6 for which affiliation_name is M. D. Anderson Cancer Center, Houston, TX.}\\n{SELECT * FROM Author JOIN Orgnization_Researchers ON Author.id = Orgnization_Researchers.author_id JOIN Affiliation ON Orgnization_Researchers.affiliation_name = Affiliation.DisplayName WHERE Author.h_index BETWEEN 3 AND 6 AND Orgnization_Researchers.affiliation_name = \\\\\"M. D. Anderson Cancer Center, Houston, TX\\\\\"}\\nA: {report all the researcher that belongs to \\'M. D. Anderson Cancer Center, Houston, TX.\\' and have a h-index between 3 and 6.}\\n\\nQ: {What are the 3 Stk_Name in records with highest values of Acc_Deposits}\\n{SELECT Basic_Info.Stk_Name FROM Basic_Info JOIN Balance_Sheet ON Basic_Info.Stk_Code = Balance_Sheet.Stk_Code ORDER BY Balance_Sheet.Acc_Deposits DESC LIMIT 3}\\nA: {witch three companies have the most deposit absorption?}\\n\\nQ: {What are the DisplayName of records published before 1990?}\\n{SELECT Venue.DisplayName FROM Paper JOIN Venue_Papers ON Paper.id = Venue_Papers.paper_id JOIN Venue ON Venue_Papers.venue_id = Venue.id WHERE Paper.year < 1990}\\nA: {what are the names of venue that have papers published before 1990?}\\n\\nQ: {Give the distinct Tot_Liab_Own_Eq for all records in the database.}\\n{SELECT distinct(Tot_Liab_Own_Eq) FROM Balance_Sheet}\\nA: {return the distinct value of total liabilities and owner\\'s equity in our data.}\\n\\nQ: {What is the n_citation value that has the most occurance?}\\n{SELECT n_citation FROM Paper GROUP BY n_citation ORDER BY count(*) DESC LIMIT 1}\\nA:'}], 'temperature': 0.5}\n"
     ]
    },
    {
     "name": "stderr",
     "output_type": "stream",
     "text": [
      " 60%|██████    | 6/10 [00:13<00:10,  2.52s/it]"
     ]
    },
    {
     "name": "stdout",
     "output_type": "stream",
     "text": [
      "What is the n_citation value that has the most occurance?\n",
      "{what is the number of citations that appears most frequently in our data?}\n",
      "{'model': 'gpt-3.5-turbo-16k', 'messages': [{'role': 'user', 'content': '[Task Description]\\nYou have a SQLite database. Based on the Schema(with useful comments on columns), you generated plentiful question-query pairs with template, whose readability is terrible. Now, given a question-query pair, you are asked to rewrite the question to enhance its readability with the help of comments in Schema.\\n\\n[Schema]\\n{CREATE TABLE Venue(\\n  id TEXT, -- id\\n  DisplayName TEXT, -- name of the conferenece/joural\\n  PRIMARY KEY (id)\\n)\\n\\nCREATE TABLE Affiliation(\\n  id TEXT, -- id\\n  DisplayName TEXT, -- name of the orgnization\\n  type TEXT, -- orgnization type\\n  url TEXT, -- link of the orgnization\\'s homepage\\n  PRIMARY KEY (id)\\n)\\n\\nCREATE TABLE Author(\\n  id TEXT, -- id\\n  name TEXT, -- name\\n  org TEXT, -- author\\'s current orgnization\\n  position TEXT, -- position\\n  n_pubs INTEGER, -- number of paper publication\\n  n_citation INTEGER, -- number of total citation\\n  h_index INTEGER, -- h-index\\n  PRIMARY KEY (id)\\n)\\n\\nCREATE TABLE Paper(\\n  id TEXT, -- id\\n  title TEXT, -- title\\n  year INTEGER, -- publication year\\n  n_citation INTEGER, -- number of citation\\n  page_start TEXT, -- start page on the publication\\n  page_end TEXT, -- end page on the publication\\n  lang TEXT, -- language\\n  volume TEXT, -- volume of the publicaiton\\n  doi TEXT, -- digital object unique identifier\\n  pdf TEXT, -- pdf view link of the paper\\n  abstract TEXT, -- paper abstract\\n  PRIMARY KEY (id)\\n)\\n\\nCREATE TABLE Venue_Papers(\\n  venue_id TEXT, -- venue_id\\n  paper_id TEXT, -- paper_id\\n  FOREIGN KEY (venue_id) REFERENCES Venue(id),\\n  FOREIGN KEY (paper_id) REFERENCES Paper(id)\\n)\\n\\nCREATE TABLE Paper_Keywords(\\n  paper_id TEXT, -- paper_id\\n  keyword TEXT, -- a keyword of the paper\\n  FOREIGN KEY (paper_id) REFERENCES Paper(id) \\n)\\n\\nCREATE TABLE Paper_Authors(\\n  paper_id TEXT, -- paper_id\\n  rank INTEGER, -- this author\\'s rank\\n  author_id TEXT, -- author_id\\n  FOREIGN KEY (paper_id) REFERENCES Paper(id),\\n  FOREIGN KEY (author_id) REFERENCES Author(id) \\n)\\n\\nCREATE TABLE Orgnization_Researchers(\\n  affiliation_name TEXT, -- name of affiliation that this researcher once belonged to\\n  author_id TEXT, -- author_id\\n  FOREIGN KEY (author_id) REFERENCES Author(id)\\n)\\n\\nCREATE TABLE Researcher_Interests(\\n  author_id TEXT, -- author_id\\n  tag Text, -- research interest\\n  weight INTEGER, -- weight of this interest\\n  FOREIGN KEY (author_id) REFERENCES Author(id)\\n)\\n\\n}\\n\\n[Solution]\\n\\nQ: {How many distinct position are there with tag is high resolution?}\\n{SELECT COUNT(DISTINCT Author.position) FROM Author JOIN Researcher_Interests ON Author.id = Researcher_Interests.author_id WHERE Researcher_Interests.tag = \"high resolution\"}\\nA: {how may different academic positions are there in researchers who have an interest in \"high resolution\"?}\\n\\nQ: {Select the three Debt_Converted_Capital with the biggest Cash_Eq_End_Period from records}\\n{SELECT Debt_Converted_Capital FROM Cash_Flow_Statement ORDER BY Cash_Eq_End_Period DESC LIMIT 3}\\nA: {find me capital converted from debt with top3 cash equivalents closing balance.}\\n\\nQ: {What is the page_end of the records with a keyword of \\'electric vehicle\\' or \\'Renmin Univ\\'?}\\n{SELECT Paper.page_end FROM Paper JOIN Paper_Keywords ON Paper.id = Paper_Keywords.paper_id WHERE Paper_Keywords.keyword = \\'electric vehicle\\' OR Paper_Keywords.keyword = \\'Renmin Univ\\'}\\nA: {For papers having keyword \\'electric vehicle\\' or \\'Renmin Univ\\', what are theirs end page on the publicaiton?}\\n\\nQ: {What is the average Fix_Assets of records grouped by Stk_Name?}\\n{SELECT avg(Balance_Sheet.Fix_Assets) , Basic_Info.Stk_Name FROM Basic_Info JOIN Balance_Sheet ON Basic_Info.Stk_Code = Balance_Sheet.Stk_Code GROUP BY Basic_Info.Stk_Name}\\nA: {find out the average fixed assets of each stock.}\\n\\nQ: {Find the number of records with a h_index of more than 1 for each affiliation_name}\\n{SELECT count(*) , Orgnization_Researchers.affiliation_name FROM Author JOIN Orgnization_Researchers ON Author.id = Orgnization_Researchers.author_id WHERE Author.h_index > 1 GROUP BY Orgnization_Researchers.affiliation_name}\\nA: {for each affiliation, how many researchers whose h_index greater than 1 belongs to it?}\\n\\nQ: {For each Tax_n_Surs, report the Tax_n_Surs, the number of Stk_Name and the total number of records with that Tax_n_Surs.}\\n{SELECT Income_Statement.Tax_n_Surs , count(DISTINCT Basic_Info.Stk_Name) , count(*) FROM Basic_Info JOIN Income_Statement ON Basic_Info.Stk_Code = Income_Statement.Stk_Code GROUP BY Income_Statement.Tax_n_Surs}\\nA: {i want to know how many records and different company names do we have for each taxes and surcharges value, along with the value itself.}\\n\\nQ: {Show DisplayName of any records in which pdf equals //static.aminer.org/pdf/PDF/001/011/809/.pdf}\\n{SELECT Venue.DisplayName FROM Paper JOIN Venue_Papers ON Paper.id = Venue_Papers.paper_id JOIN Venue ON Venue_Papers.venue_id = Venue.id WHERE Paper.pdf = \\'//static.aminer.org/pdf/PDF/001/011/809/.pdf\\'}\\nA: {give me name of the conferenece if anyone of its paper have pdf link same as //static.aminer.org/pdf/PDF/001/011/809/.pdf}\\n\\nQ: {Count how many records that either have a Stk_Name of China Everbright Bank or a Cash_Pay_Invest of 1056100000000.0.}\\n{SELECT count(*) FROM Basic_Info JOIN Cash_Flow_Statement ON Basic_Info.Stk_Code = Cash_Flow_Statement.Stk_Code WHERE Basic_Info.Stk_Name = \"China Everbright Bank\" OR Cash_Flow_Statement.Cash_Pay_Invest = 1056100000000.0 }\\nA: {hoy many records belong to China Everbright Bank or thier cash paid for investment is exactly 1056100000000.0?}\\n\\nQ: {Report all information about records with h_index between 3 and 6 for which affiliation_name is M. D. Anderson Cancer Center, Houston, TX.}\\n{SELECT * FROM Author JOIN Orgnization_Researchers ON Author.id = Orgnization_Researchers.author_id JOIN Affiliation ON Orgnization_Researchers.affiliation_name = Affiliation.DisplayName WHERE Author.h_index BETWEEN 3 AND 6 AND Orgnization_Researchers.affiliation_name = \\\\\"M. D. Anderson Cancer Center, Houston, TX\\\\\"}\\nA: {report all the researcher that belongs to \\'M. D. Anderson Cancer Center, Houston, TX.\\' and have a h-index between 3 and 6.}\\n\\nQ: {What are the 3 Stk_Name in records with highest values of Acc_Deposits}\\n{SELECT Basic_Info.Stk_Name FROM Basic_Info JOIN Balance_Sheet ON Basic_Info.Stk_Code = Balance_Sheet.Stk_Code ORDER BY Balance_Sheet.Acc_Deposits DESC LIMIT 3}\\nA: {witch three companies have the most deposit absorption?}\\n\\nQ: {What are the DisplayName of records published before 1990?}\\n{SELECT Venue.DisplayName FROM Paper JOIN Venue_Papers ON Paper.id = Venue_Papers.paper_id JOIN Venue ON Venue_Papers.venue_id = Venue.id WHERE Paper.year < 1990}\\nA: {what are the names of venue that have papers published before 1990?}\\n\\nQ: {Give the distinct Tot_Liab_Own_Eq for all records in the database.}\\n{SELECT distinct(Tot_Liab_Own_Eq) FROM Balance_Sheet}\\nA: {return the distinct value of total liabilities and owner\\'s equity in our data.}\\n\\nQ: {list all information about Affiliation.}\\n{SELECT * FROM Affiliation}\\nA:'}], 'temperature': 0.5}\n"
     ]
    },
    {
     "name": "stderr",
     "output_type": "stream",
     "text": [
      " 70%|███████   | 7/10 [00:16<00:07,  2.40s/it]"
     ]
    },
    {
     "name": "stdout",
     "output_type": "stream",
     "text": [
      "list all information about Affiliation.\n",
      "{show me all the information about organizations in our database.}\n",
      "{'model': 'gpt-3.5-turbo-16k', 'messages': [{'role': 'user', 'content': '[Task Description]\\nYou have a SQLite database. Based on the Schema(with useful comments on columns), you generated plentiful question-query pairs with template, whose readability is terrible. Now, given a question-query pair, you are asked to rewrite the question to enhance its readability with the help of comments in Schema.\\n\\n[Schema]\\n{CREATE TABLE Venue(\\n  id TEXT, -- id\\n  DisplayName TEXT, -- name of the conferenece/joural\\n  PRIMARY KEY (id)\\n)\\n\\nCREATE TABLE Affiliation(\\n  id TEXT, -- id\\n  DisplayName TEXT, -- name of the orgnization\\n  type TEXT, -- orgnization type\\n  url TEXT, -- link of the orgnization\\'s homepage\\n  PRIMARY KEY (id)\\n)\\n\\nCREATE TABLE Author(\\n  id TEXT, -- id\\n  name TEXT, -- name\\n  org TEXT, -- author\\'s current orgnization\\n  position TEXT, -- position\\n  n_pubs INTEGER, -- number of paper publication\\n  n_citation INTEGER, -- number of total citation\\n  h_index INTEGER, -- h-index\\n  PRIMARY KEY (id)\\n)\\n\\nCREATE TABLE Paper(\\n  id TEXT, -- id\\n  title TEXT, -- title\\n  year INTEGER, -- publication year\\n  n_citation INTEGER, -- number of citation\\n  page_start TEXT, -- start page on the publication\\n  page_end TEXT, -- end page on the publication\\n  lang TEXT, -- language\\n  volume TEXT, -- volume of the publicaiton\\n  doi TEXT, -- digital object unique identifier\\n  pdf TEXT, -- pdf view link of the paper\\n  abstract TEXT, -- paper abstract\\n  PRIMARY KEY (id)\\n)\\n\\nCREATE TABLE Venue_Papers(\\n  venue_id TEXT, -- venue_id\\n  paper_id TEXT, -- paper_id\\n  FOREIGN KEY (venue_id) REFERENCES Venue(id),\\n  FOREIGN KEY (paper_id) REFERENCES Paper(id)\\n)\\n\\nCREATE TABLE Paper_Keywords(\\n  paper_id TEXT, -- paper_id\\n  keyword TEXT, -- a keyword of the paper\\n  FOREIGN KEY (paper_id) REFERENCES Paper(id) \\n)\\n\\nCREATE TABLE Paper_Authors(\\n  paper_id TEXT, -- paper_id\\n  rank INTEGER, -- this author\\'s rank\\n  author_id TEXT, -- author_id\\n  FOREIGN KEY (paper_id) REFERENCES Paper(id),\\n  FOREIGN KEY (author_id) REFERENCES Author(id) \\n)\\n\\nCREATE TABLE Orgnization_Researchers(\\n  affiliation_name TEXT, -- name of affiliation that this researcher once belonged to\\n  author_id TEXT, -- author_id\\n  FOREIGN KEY (author_id) REFERENCES Author(id)\\n)\\n\\nCREATE TABLE Researcher_Interests(\\n  author_id TEXT, -- author_id\\n  tag Text, -- research interest\\n  weight INTEGER, -- weight of this interest\\n  FOREIGN KEY (author_id) REFERENCES Author(id)\\n)\\n\\n}\\n\\n[Solution]\\n\\nQ: {How many distinct position are there with tag is high resolution?}\\n{SELECT COUNT(DISTINCT Author.position) FROM Author JOIN Researcher_Interests ON Author.id = Researcher_Interests.author_id WHERE Researcher_Interests.tag = \"high resolution\"}\\nA: {how may different academic positions are there in researchers who have an interest in \"high resolution\"?}\\n\\nQ: {Select the three Debt_Converted_Capital with the biggest Cash_Eq_End_Period from records}\\n{SELECT Debt_Converted_Capital FROM Cash_Flow_Statement ORDER BY Cash_Eq_End_Period DESC LIMIT 3}\\nA: {find me capital converted from debt with top3 cash equivalents closing balance.}\\n\\nQ: {What is the page_end of the records with a keyword of \\'electric vehicle\\' or \\'Renmin Univ\\'?}\\n{SELECT Paper.page_end FROM Paper JOIN Paper_Keywords ON Paper.id = Paper_Keywords.paper_id WHERE Paper_Keywords.keyword = \\'electric vehicle\\' OR Paper_Keywords.keyword = \\'Renmin Univ\\'}\\nA: {For papers having keyword \\'electric vehicle\\' or \\'Renmin Univ\\', what are theirs end page on the publicaiton?}\\n\\nQ: {What is the average Fix_Assets of records grouped by Stk_Name?}\\n{SELECT avg(Balance_Sheet.Fix_Assets) , Basic_Info.Stk_Name FROM Basic_Info JOIN Balance_Sheet ON Basic_Info.Stk_Code = Balance_Sheet.Stk_Code GROUP BY Basic_Info.Stk_Name}\\nA: {find out the average fixed assets of each stock.}\\n\\nQ: {Find the number of records with a h_index of more than 1 for each affiliation_name}\\n{SELECT count(*) , Orgnization_Researchers.affiliation_name FROM Author JOIN Orgnization_Researchers ON Author.id = Orgnization_Researchers.author_id WHERE Author.h_index > 1 GROUP BY Orgnization_Researchers.affiliation_name}\\nA: {for each affiliation, how many researchers whose h_index greater than 1 belongs to it?}\\n\\nQ: {For each Tax_n_Surs, report the Tax_n_Surs, the number of Stk_Name and the total number of records with that Tax_n_Surs.}\\n{SELECT Income_Statement.Tax_n_Surs , count(DISTINCT Basic_Info.Stk_Name) , count(*) FROM Basic_Info JOIN Income_Statement ON Basic_Info.Stk_Code = Income_Statement.Stk_Code GROUP BY Income_Statement.Tax_n_Surs}\\nA: {i want to know how many records and different company names do we have for each taxes and surcharges value, along with the value itself.}\\n\\nQ: {Show DisplayName of any records in which pdf equals //static.aminer.org/pdf/PDF/001/011/809/.pdf}\\n{SELECT Venue.DisplayName FROM Paper JOIN Venue_Papers ON Paper.id = Venue_Papers.paper_id JOIN Venue ON Venue_Papers.venue_id = Venue.id WHERE Paper.pdf = \\'//static.aminer.org/pdf/PDF/001/011/809/.pdf\\'}\\nA: {give me name of the conferenece if anyone of its paper have pdf link same as //static.aminer.org/pdf/PDF/001/011/809/.pdf}\\n\\nQ: {Count how many records that either have a Stk_Name of China Everbright Bank or a Cash_Pay_Invest of 1056100000000.0.}\\n{SELECT count(*) FROM Basic_Info JOIN Cash_Flow_Statement ON Basic_Info.Stk_Code = Cash_Flow_Statement.Stk_Code WHERE Basic_Info.Stk_Name = \"China Everbright Bank\" OR Cash_Flow_Statement.Cash_Pay_Invest = 1056100000000.0 }\\nA: {hoy many records belong to China Everbright Bank or thier cash paid for investment is exactly 1056100000000.0?}\\n\\nQ: {Report all information about records with h_index between 3 and 6 for which affiliation_name is M. D. Anderson Cancer Center, Houston, TX.}\\n{SELECT * FROM Author JOIN Orgnization_Researchers ON Author.id = Orgnization_Researchers.author_id JOIN Affiliation ON Orgnization_Researchers.affiliation_name = Affiliation.DisplayName WHERE Author.h_index BETWEEN 3 AND 6 AND Orgnization_Researchers.affiliation_name = \\\\\"M. D. Anderson Cancer Center, Houston, TX\\\\\"}\\nA: {report all the researcher that belongs to \\'M. D. Anderson Cancer Center, Houston, TX.\\' and have a h-index between 3 and 6.}\\n\\nQ: {What are the 3 Stk_Name in records with highest values of Acc_Deposits}\\n{SELECT Basic_Info.Stk_Name FROM Basic_Info JOIN Balance_Sheet ON Basic_Info.Stk_Code = Balance_Sheet.Stk_Code ORDER BY Balance_Sheet.Acc_Deposits DESC LIMIT 3}\\nA: {witch three companies have the most deposit absorption?}\\n\\nQ: {What are the DisplayName of records published before 1990?}\\n{SELECT Venue.DisplayName FROM Paper JOIN Venue_Papers ON Paper.id = Venue_Papers.paper_id JOIN Venue ON Venue_Papers.venue_id = Venue.id WHERE Paper.year < 1990}\\nA: {what are the names of venue that have papers published before 1990?}\\n\\nQ: {Give the distinct Tot_Liab_Own_Eq for all records in the database.}\\n{SELECT distinct(Tot_Liab_Own_Eq) FROM Balance_Sheet}\\nA: {return the distinct value of total liabilities and owner\\'s equity in our data.}\\n\\nQ: {What is the average and maximum year of each Paper?}\\n{SELECT avg(year), max(year) FROM Paper}\\nA:'}], 'temperature': 0.5}\n"
     ]
    },
    {
     "name": "stderr",
     "output_type": "stream",
     "text": [
      " 80%|████████  | 8/10 [00:18<00:04,  2.27s/it]"
     ]
    },
    {
     "name": "stdout",
     "output_type": "stream",
     "text": [
      "What is the average and maximum year of each Paper?\n",
      "{what is the average and maximum publication year for each paper?}\n",
      "{'model': 'gpt-3.5-turbo-16k', 'messages': [{'role': 'user', 'content': '[Task Description]\\nYou have a SQLite database. Based on the Schema(with useful comments on columns), you generated plentiful question-query pairs with template, whose readability is terrible. Now, given a question-query pair, you are asked to rewrite the question to enhance its readability with the help of comments in Schema.\\n\\n[Schema]\\n{CREATE TABLE Venue(\\n  id TEXT, -- id\\n  DisplayName TEXT, -- name of the conferenece/joural\\n  PRIMARY KEY (id)\\n)\\n\\nCREATE TABLE Affiliation(\\n  id TEXT, -- id\\n  DisplayName TEXT, -- name of the orgnization\\n  type TEXT, -- orgnization type\\n  url TEXT, -- link of the orgnization\\'s homepage\\n  PRIMARY KEY (id)\\n)\\n\\nCREATE TABLE Author(\\n  id TEXT, -- id\\n  name TEXT, -- name\\n  org TEXT, -- author\\'s current orgnization\\n  position TEXT, -- position\\n  n_pubs INTEGER, -- number of paper publication\\n  n_citation INTEGER, -- number of total citation\\n  h_index INTEGER, -- h-index\\n  PRIMARY KEY (id)\\n)\\n\\nCREATE TABLE Paper(\\n  id TEXT, -- id\\n  title TEXT, -- title\\n  year INTEGER, -- publication year\\n  n_citation INTEGER, -- number of citation\\n  page_start TEXT, -- start page on the publication\\n  page_end TEXT, -- end page on the publication\\n  lang TEXT, -- language\\n  volume TEXT, -- volume of the publicaiton\\n  doi TEXT, -- digital object unique identifier\\n  pdf TEXT, -- pdf view link of the paper\\n  abstract TEXT, -- paper abstract\\n  PRIMARY KEY (id)\\n)\\n\\nCREATE TABLE Venue_Papers(\\n  venue_id TEXT, -- venue_id\\n  paper_id TEXT, -- paper_id\\n  FOREIGN KEY (venue_id) REFERENCES Venue(id),\\n  FOREIGN KEY (paper_id) REFERENCES Paper(id)\\n)\\n\\nCREATE TABLE Paper_Keywords(\\n  paper_id TEXT, -- paper_id\\n  keyword TEXT, -- a keyword of the paper\\n  FOREIGN KEY (paper_id) REFERENCES Paper(id) \\n)\\n\\nCREATE TABLE Paper_Authors(\\n  paper_id TEXT, -- paper_id\\n  rank INTEGER, -- this author\\'s rank\\n  author_id TEXT, -- author_id\\n  FOREIGN KEY (paper_id) REFERENCES Paper(id),\\n  FOREIGN KEY (author_id) REFERENCES Author(id) \\n)\\n\\nCREATE TABLE Orgnization_Researchers(\\n  affiliation_name TEXT, -- name of affiliation that this researcher once belonged to\\n  author_id TEXT, -- author_id\\n  FOREIGN KEY (author_id) REFERENCES Author(id)\\n)\\n\\nCREATE TABLE Researcher_Interests(\\n  author_id TEXT, -- author_id\\n  tag Text, -- research interest\\n  weight INTEGER, -- weight of this interest\\n  FOREIGN KEY (author_id) REFERENCES Author(id)\\n)\\n\\n}\\n\\n[Solution]\\n\\nQ: {How many distinct position are there with tag is high resolution?}\\n{SELECT COUNT(DISTINCT Author.position) FROM Author JOIN Researcher_Interests ON Author.id = Researcher_Interests.author_id WHERE Researcher_Interests.tag = \"high resolution\"}\\nA: {how may different academic positions are there in researchers who have an interest in \"high resolution\"?}\\n\\nQ: {Select the three Debt_Converted_Capital with the biggest Cash_Eq_End_Period from records}\\n{SELECT Debt_Converted_Capital FROM Cash_Flow_Statement ORDER BY Cash_Eq_End_Period DESC LIMIT 3}\\nA: {find me capital converted from debt with top3 cash equivalents closing balance.}\\n\\nQ: {What is the page_end of the records with a keyword of \\'electric vehicle\\' or \\'Renmin Univ\\'?}\\n{SELECT Paper.page_end FROM Paper JOIN Paper_Keywords ON Paper.id = Paper_Keywords.paper_id WHERE Paper_Keywords.keyword = \\'electric vehicle\\' OR Paper_Keywords.keyword = \\'Renmin Univ\\'}\\nA: {For papers having keyword \\'electric vehicle\\' or \\'Renmin Univ\\', what are theirs end page on the publicaiton?}\\n\\nQ: {What is the average Fix_Assets of records grouped by Stk_Name?}\\n{SELECT avg(Balance_Sheet.Fix_Assets) , Basic_Info.Stk_Name FROM Basic_Info JOIN Balance_Sheet ON Basic_Info.Stk_Code = Balance_Sheet.Stk_Code GROUP BY Basic_Info.Stk_Name}\\nA: {find out the average fixed assets of each stock.}\\n\\nQ: {Find the number of records with a h_index of more than 1 for each affiliation_name}\\n{SELECT count(*) , Orgnization_Researchers.affiliation_name FROM Author JOIN Orgnization_Researchers ON Author.id = Orgnization_Researchers.author_id WHERE Author.h_index > 1 GROUP BY Orgnization_Researchers.affiliation_name}\\nA: {for each affiliation, how many researchers whose h_index greater than 1 belongs to it?}\\n\\nQ: {For each Tax_n_Surs, report the Tax_n_Surs, the number of Stk_Name and the total number of records with that Tax_n_Surs.}\\n{SELECT Income_Statement.Tax_n_Surs , count(DISTINCT Basic_Info.Stk_Name) , count(*) FROM Basic_Info JOIN Income_Statement ON Basic_Info.Stk_Code = Income_Statement.Stk_Code GROUP BY Income_Statement.Tax_n_Surs}\\nA: {i want to know how many records and different company names do we have for each taxes and surcharges value, along with the value itself.}\\n\\nQ: {Show DisplayName of any records in which pdf equals //static.aminer.org/pdf/PDF/001/011/809/.pdf}\\n{SELECT Venue.DisplayName FROM Paper JOIN Venue_Papers ON Paper.id = Venue_Papers.paper_id JOIN Venue ON Venue_Papers.venue_id = Venue.id WHERE Paper.pdf = \\'//static.aminer.org/pdf/PDF/001/011/809/.pdf\\'}\\nA: {give me name of the conferenece if anyone of its paper have pdf link same as //static.aminer.org/pdf/PDF/001/011/809/.pdf}\\n\\nQ: {Count how many records that either have a Stk_Name of China Everbright Bank or a Cash_Pay_Invest of 1056100000000.0.}\\n{SELECT count(*) FROM Basic_Info JOIN Cash_Flow_Statement ON Basic_Info.Stk_Code = Cash_Flow_Statement.Stk_Code WHERE Basic_Info.Stk_Name = \"China Everbright Bank\" OR Cash_Flow_Statement.Cash_Pay_Invest = 1056100000000.0 }\\nA: {hoy many records belong to China Everbright Bank or thier cash paid for investment is exactly 1056100000000.0?}\\n\\nQ: {Report all information about records with h_index between 3 and 6 for which affiliation_name is M. D. Anderson Cancer Center, Houston, TX.}\\n{SELECT * FROM Author JOIN Orgnization_Researchers ON Author.id = Orgnization_Researchers.author_id JOIN Affiliation ON Orgnization_Researchers.affiliation_name = Affiliation.DisplayName WHERE Author.h_index BETWEEN 3 AND 6 AND Orgnization_Researchers.affiliation_name = \\\\\"M. D. Anderson Cancer Center, Houston, TX\\\\\"}\\nA: {report all the researcher that belongs to \\'M. D. Anderson Cancer Center, Houston, TX.\\' and have a h-index between 3 and 6.}\\n\\nQ: {What are the 3 Stk_Name in records with highest values of Acc_Deposits}\\n{SELECT Basic_Info.Stk_Name FROM Basic_Info JOIN Balance_Sheet ON Basic_Info.Stk_Code = Balance_Sheet.Stk_Code ORDER BY Balance_Sheet.Acc_Deposits DESC LIMIT 3}\\nA: {witch three companies have the most deposit absorption?}\\n\\nQ: {What are the DisplayName of records published before 1990?}\\n{SELECT Venue.DisplayName FROM Paper JOIN Venue_Papers ON Paper.id = Venue_Papers.paper_id JOIN Venue ON Venue_Papers.venue_id = Venue.id WHERE Paper.year < 1990}\\nA: {what are the names of venue that have papers published before 1990?}\\n\\nQ: {Give the distinct Tot_Liab_Own_Eq for all records in the database.}\\n{SELECT distinct(Tot_Liab_Own_Eq) FROM Balance_Sheet}\\nA: {return the distinct value of total liabilities and owner\\'s equity in our data.}\\n\\nQ: {Find n_pubs and id of the top 3 n_pubs.}\\n{SELECT n_pubs , id FROM Author ORDER BY n_pubs DESC LIMIT 3}\\nA:'}], 'temperature': 0.5}\n"
     ]
    },
    {
     "name": "stderr",
     "output_type": "stream",
     "text": [
      " 90%|█████████ | 9/10 [00:21<00:02,  2.74s/it]"
     ]
    },
    {
     "name": "stdout",
     "output_type": "stream",
     "text": [
      "Find n_pubs and id of the top 3 n_pubs.\n",
      "{what are the number of paper publications and their IDs for the top 3 authors with the highest number of paper publications?}\n",
      "{'model': 'gpt-3.5-turbo-16k', 'messages': [{'role': 'user', 'content': '[Task Description]\\nYou have a SQLite database. Based on the Schema(with useful comments on columns), you generated plentiful question-query pairs with template, whose readability is terrible. Now, given a question-query pair, you are asked to rewrite the question to enhance its readability with the help of comments in Schema.\\n\\n[Schema]\\n{CREATE TABLE Venue(\\n  id TEXT, -- id\\n  DisplayName TEXT, -- name of the conferenece/joural\\n  PRIMARY KEY (id)\\n)\\n\\nCREATE TABLE Affiliation(\\n  id TEXT, -- id\\n  DisplayName TEXT, -- name of the orgnization\\n  type TEXT, -- orgnization type\\n  url TEXT, -- link of the orgnization\\'s homepage\\n  PRIMARY KEY (id)\\n)\\n\\nCREATE TABLE Author(\\n  id TEXT, -- id\\n  name TEXT, -- name\\n  org TEXT, -- author\\'s current orgnization\\n  position TEXT, -- position\\n  n_pubs INTEGER, -- number of paper publication\\n  n_citation INTEGER, -- number of total citation\\n  h_index INTEGER, -- h-index\\n  PRIMARY KEY (id)\\n)\\n\\nCREATE TABLE Paper(\\n  id TEXT, -- id\\n  title TEXT, -- title\\n  year INTEGER, -- publication year\\n  n_citation INTEGER, -- number of citation\\n  page_start TEXT, -- start page on the publication\\n  page_end TEXT, -- end page on the publication\\n  lang TEXT, -- language\\n  volume TEXT, -- volume of the publicaiton\\n  doi TEXT, -- digital object unique identifier\\n  pdf TEXT, -- pdf view link of the paper\\n  abstract TEXT, -- paper abstract\\n  PRIMARY KEY (id)\\n)\\n\\nCREATE TABLE Venue_Papers(\\n  venue_id TEXT, -- venue_id\\n  paper_id TEXT, -- paper_id\\n  FOREIGN KEY (venue_id) REFERENCES Venue(id),\\n  FOREIGN KEY (paper_id) REFERENCES Paper(id)\\n)\\n\\nCREATE TABLE Paper_Keywords(\\n  paper_id TEXT, -- paper_id\\n  keyword TEXT, -- a keyword of the paper\\n  FOREIGN KEY (paper_id) REFERENCES Paper(id) \\n)\\n\\nCREATE TABLE Paper_Authors(\\n  paper_id TEXT, -- paper_id\\n  rank INTEGER, -- this author\\'s rank\\n  author_id TEXT, -- author_id\\n  FOREIGN KEY (paper_id) REFERENCES Paper(id),\\n  FOREIGN KEY (author_id) REFERENCES Author(id) \\n)\\n\\nCREATE TABLE Orgnization_Researchers(\\n  affiliation_name TEXT, -- name of affiliation that this researcher once belonged to\\n  author_id TEXT, -- author_id\\n  FOREIGN KEY (author_id) REFERENCES Author(id)\\n)\\n\\nCREATE TABLE Researcher_Interests(\\n  author_id TEXT, -- author_id\\n  tag Text, -- research interest\\n  weight INTEGER, -- weight of this interest\\n  FOREIGN KEY (author_id) REFERENCES Author(id)\\n)\\n\\n}\\n\\n[Solution]\\n\\nQ: {How many distinct position are there with tag is high resolution?}\\n{SELECT COUNT(DISTINCT Author.position) FROM Author JOIN Researcher_Interests ON Author.id = Researcher_Interests.author_id WHERE Researcher_Interests.tag = \"high resolution\"}\\nA: {how may different academic positions are there in researchers who have an interest in \"high resolution\"?}\\n\\nQ: {Select the three Debt_Converted_Capital with the biggest Cash_Eq_End_Period from records}\\n{SELECT Debt_Converted_Capital FROM Cash_Flow_Statement ORDER BY Cash_Eq_End_Period DESC LIMIT 3}\\nA: {find me capital converted from debt with top3 cash equivalents closing balance.}\\n\\nQ: {What is the page_end of the records with a keyword of \\'electric vehicle\\' or \\'Renmin Univ\\'?}\\n{SELECT Paper.page_end FROM Paper JOIN Paper_Keywords ON Paper.id = Paper_Keywords.paper_id WHERE Paper_Keywords.keyword = \\'electric vehicle\\' OR Paper_Keywords.keyword = \\'Renmin Univ\\'}\\nA: {For papers having keyword \\'electric vehicle\\' or \\'Renmin Univ\\', what are theirs end page on the publicaiton?}\\n\\nQ: {What is the average Fix_Assets of records grouped by Stk_Name?}\\n{SELECT avg(Balance_Sheet.Fix_Assets) , Basic_Info.Stk_Name FROM Basic_Info JOIN Balance_Sheet ON Basic_Info.Stk_Code = Balance_Sheet.Stk_Code GROUP BY Basic_Info.Stk_Name}\\nA: {find out the average fixed assets of each stock.}\\n\\nQ: {Find the number of records with a h_index of more than 1 for each affiliation_name}\\n{SELECT count(*) , Orgnization_Researchers.affiliation_name FROM Author JOIN Orgnization_Researchers ON Author.id = Orgnization_Researchers.author_id WHERE Author.h_index > 1 GROUP BY Orgnization_Researchers.affiliation_name}\\nA: {for each affiliation, how many researchers whose h_index greater than 1 belongs to it?}\\n\\nQ: {For each Tax_n_Surs, report the Tax_n_Surs, the number of Stk_Name and the total number of records with that Tax_n_Surs.}\\n{SELECT Income_Statement.Tax_n_Surs , count(DISTINCT Basic_Info.Stk_Name) , count(*) FROM Basic_Info JOIN Income_Statement ON Basic_Info.Stk_Code = Income_Statement.Stk_Code GROUP BY Income_Statement.Tax_n_Surs}\\nA: {i want to know how many records and different company names do we have for each taxes and surcharges value, along with the value itself.}\\n\\nQ: {Show DisplayName of any records in which pdf equals //static.aminer.org/pdf/PDF/001/011/809/.pdf}\\n{SELECT Venue.DisplayName FROM Paper JOIN Venue_Papers ON Paper.id = Venue_Papers.paper_id JOIN Venue ON Venue_Papers.venue_id = Venue.id WHERE Paper.pdf = \\'//static.aminer.org/pdf/PDF/001/011/809/.pdf\\'}\\nA: {give me name of the conferenece if anyone of its paper have pdf link same as //static.aminer.org/pdf/PDF/001/011/809/.pdf}\\n\\nQ: {Count how many records that either have a Stk_Name of China Everbright Bank or a Cash_Pay_Invest of 1056100000000.0.}\\n{SELECT count(*) FROM Basic_Info JOIN Cash_Flow_Statement ON Basic_Info.Stk_Code = Cash_Flow_Statement.Stk_Code WHERE Basic_Info.Stk_Name = \"China Everbright Bank\" OR Cash_Flow_Statement.Cash_Pay_Invest = 1056100000000.0 }\\nA: {hoy many records belong to China Everbright Bank or thier cash paid for investment is exactly 1056100000000.0?}\\n\\nQ: {Report all information about records with h_index between 3 and 6 for which affiliation_name is M. D. Anderson Cancer Center, Houston, TX.}\\n{SELECT * FROM Author JOIN Orgnization_Researchers ON Author.id = Orgnization_Researchers.author_id JOIN Affiliation ON Orgnization_Researchers.affiliation_name = Affiliation.DisplayName WHERE Author.h_index BETWEEN 3 AND 6 AND Orgnization_Researchers.affiliation_name = \\\\\"M. D. Anderson Cancer Center, Houston, TX\\\\\"}\\nA: {report all the researcher that belongs to \\'M. D. Anderson Cancer Center, Houston, TX.\\' and have a h-index between 3 and 6.}\\n\\nQ: {What are the 3 Stk_Name in records with highest values of Acc_Deposits}\\n{SELECT Basic_Info.Stk_Name FROM Basic_Info JOIN Balance_Sheet ON Basic_Info.Stk_Code = Balance_Sheet.Stk_Code ORDER BY Balance_Sheet.Acc_Deposits DESC LIMIT 3}\\nA: {witch three companies have the most deposit absorption?}\\n\\nQ: {What are the DisplayName of records published before 1990?}\\n{SELECT Venue.DisplayName FROM Paper JOIN Venue_Papers ON Paper.id = Venue_Papers.paper_id JOIN Venue ON Venue_Papers.venue_id = Venue.id WHERE Paper.year < 1990}\\nA: {what are the names of venue that have papers published before 1990?}\\n\\nQ: {Give the distinct Tot_Liab_Own_Eq for all records in the database.}\\n{SELECT distinct(Tot_Liab_Own_Eq) FROM Balance_Sheet}\\nA: {return the distinct value of total liabilities and owner\\'s equity in our data.}\\n\\nQ: {For every paper_id in Paper_Keywords, return the paper_id, its number of distinct paper_id as well as the total count of Paper_Keywords within that group.}\\n{SELECT paper_id , count(DISTINCT paper_id) , count(*) FROM Paper_Keywords GROUP BY paper_id}\\nA:'}], 'temperature': 0.5}\n"
     ]
    },
    {
     "name": "stderr",
     "output_type": "stream",
     "text": [
      "100%|██████████| 10/10 [00:24<00:00,  2.44s/it]"
     ]
    },
    {
     "name": "stdout",
     "output_type": "stream",
     "text": [
      "For every paper_id in Paper_Keywords, return the paper_id, its number of distinct paper_id as well as the total count of Paper_Keywords within that group.\n",
      "{for each paper, how many distinct keywords does it have and what is the total count of keywords for that paper?}\n"
     ]
    },
    {
     "name": "stderr",
     "output_type": "stream",
     "text": [
      "\n"
     ]
    },
    {
     "data": {
      "text/plain": [
       "[{'question': 'show me the number of citations for all papers that have at least one citation.',\n",
       "  'SQL': 'SELECT n_citation FROM Paper WHERE n_citation != 0'},\n",
       " {'question': 'which two papers have the highest rank?',\n",
       "  'SQL': 'SELECT paper_id FROM Paper_Authors ORDER BY rank DESC LIMIT 2'},\n",
       " {'question': 'show me the types of organizations that appear less than 40 times in the database.',\n",
       "  'SQL': 'SELECT type FROM Affiliation GROUP BY type HAVING COUNT (*) < 40'},\n",
       " {'question': 'how many researchers have an interest in visualization with a weight greater than 1?',\n",
       "  'SQL': 'SELECT COUNT (*) FROM Researcher_Interests WHERE weight > 1 AND tag = \"visualization\"'},\n",
       " {'question': 'what is the position and id of the top 5 authors with the fewest number of citations?',\n",
       "  'SQL': 'SELECT position , id FROM Author ORDER BY n_citation LIMIT 5'},\n",
       " {'question': 'what is the number of citations that appears most frequently in our data?',\n",
       "  'SQL': 'SELECT n_citation FROM Paper GROUP BY n_citation ORDER BY count(*) DESC LIMIT 1'},\n",
       " {'question': 'show me all the information about organizations in our database.',\n",
       "  'SQL': 'SELECT * FROM Affiliation'},\n",
       " {'question': 'what is the average and maximum publication year for each paper?',\n",
       "  'SQL': 'SELECT avg(year), max(year) FROM Paper'},\n",
       " {'question': 'what are the number of paper publications and their IDs for the top 3 authors with the highest number of paper publications?',\n",
       "  'SQL': 'SELECT n_pubs , id FROM Author ORDER BY n_pubs DESC LIMIT 3'},\n",
       " {'question': 'for each paper, how many distinct keywords does it have and what is the total count of keywords for that paper?',\n",
       "  'SQL': 'SELECT paper_id , count(DISTINCT paper_id) , count(*) FROM Paper_Keywords GROUP BY paper_id'}]"
      ]
     },
     "execution_count": 79,
     "metadata": {},
     "output_type": "execute_result"
    }
   ],
   "source": [
    "def extract(response:str) -> str : # extract response from formatted string\n",
    "    text = ''\n",
    "    try :\n",
    "        text = re.search(r'\\{(.+?)\\}', response, re.DOTALL).groups(0)[-1] \n",
    "    except : \n",
    "        return ''\n",
    "    return text\n",
    "\n",
    "def rewrite_template_query(data, database_prompt, prompt_path) -> list :\n",
    "    rewritten = []\n",
    "    prompt_template = open(prompt_path, 'r').read()\n",
    "    prompt_template = prompt_template.replace('SCHEMA_SLOT', database_prompt)\n",
    "    for item in tqdm.tqdm(data) :\n",
    "        question = item['question']\n",
    "        query = item['SQL']\n",
    "        params = {\n",
    "                    \"model\": \"gpt-3.5-turbo-16k\",\n",
    "                    \"messages\": [{\"role\":\"user\", \"content\":prompt_template.replace('NATURAL_LANGUAGE_QUESTION', question).replace('SQL_QUERY', query)}],\n",
    "                    \"temperature\": 0.5,\n",
    "        }\n",
    "        print(params)\n",
    "        response = requests.post(url, headers=headers, data=json.dumps(params))\n",
    "        rewrite_question = extract(response.json().get('choices')[0].get('message').get('content'))\n",
    "        print(question)\n",
    "        print(response.json().get('choices')[0].get('message').get('content'))\n",
    "        if rewrite_question != '' :\n",
    "            rewritten.append({'question': rewrite_question, 'SQL': query})\n",
    "    return rewritten\n",
    "\n",
    "rewrite_template_query(data=data, database_prompt=get_database_prompt(db_path), prompt_path=prompt_path)"
   ]
  }
 ],
 "metadata": {
  "kernelspec": {
   "display_name": "base",
   "language": "python",
   "name": "python3"
  },
  "language_info": {
   "codemirror_mode": {
    "name": "ipython",
    "version": 3
   },
   "file_extension": ".py",
   "mimetype": "text/x-python",
   "name": "python",
   "nbconvert_exporter": "python",
   "pygments_lexer": "ipython3",
   "version": "3.9.13"
  }
 },
 "nbformat": 4,
 "nbformat_minor": 2
}
