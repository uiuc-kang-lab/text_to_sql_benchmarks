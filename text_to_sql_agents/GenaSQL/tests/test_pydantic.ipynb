{
 "cells": [
  {
   "cell_type": "code",
   "execution_count": 1,
   "metadata": {},
   "outputs": [
    {
     "name": "stdout",
     "output_type": "stream",
     "text": [
      "hello, world!\n"
     ]
    }
   ],
   "source": [
    "import sys\n",
    "sys.path.append(\"../src\")\n",
    "from text2sql import hello\n",
    "print(hello.message)"
   ]
  },
  {
   "cell_type": "code",
   "execution_count": 2,
   "metadata": {},
   "outputs": [
    {
     "name": "stderr",
     "output_type": "stream",
     "text": [
      "/home/derek/miniconda3/envs/bird/lib/python3.12/site-packages/tqdm/auto.py:21: TqdmWarning: IProgress not found. Please update jupyter and ipywidgets. See https://ipywidgets.readthedocs.io/en/stable/user_install.html\n",
      "  from .autonotebook import tqdm as notebook_tqdm\n"
     ]
    }
   ],
   "source": [
    "import os\n",
    "import time\n",
    "\n",
    "from dotenv import load_dotenv\n",
    "\n",
    "from text2sql.engine.embeddings import EmbeddingResult, BedrockCohereEmbedder\n",
    "from text2sql.engine.generation import GenerationResult, AzureGenerator, GCPGenerator"
   ]
  },
  {
   "cell_type": "code",
   "execution_count": 3,
   "metadata": {},
   "outputs": [
    {
     "data": {
      "text/plain": [
       "True"
      ]
     },
     "execution_count": 3,
     "metadata": {},
     "output_type": "execute_result"
    }
   ],
   "source": [
    "load_dotenv()"
   ]
  },
  {
   "cell_type": "code",
   "execution_count": 4,
   "metadata": {},
   "outputs": [],
   "source": [
    "system_prompt = \"you are a terse philosophy expert who responds in a concise manner.\"\n",
    "\n",
    "\n",
    "user_template = \"\"\"answer the question based on this excerpt from Bertrand Russell's 'The Problems of Philosophy':\n",
    "\n",
    "```\n",
    "CHAPTER IV. IDEALISM\n",
    "\n",
    "The word 'idealism' is used by different philosophers in somewhat\n",
    "different senses. We shall understand by it the doctrine that whatever\n",
    "exists, or at any rate whatever can be known to exist, must be in\n",
    "some sense mental. This doctrine, which is very widely held among\n",
    "philosophers, has several forms, and is advocated on several different\n",
    "grounds. The doctrine is so widely held, and so interesting in itself,\n",
    "that even the briefest survey of philosophy must give some account of\n",
    "it.\n",
    "\n",
    "Those who are unaccustomed to philosophical speculation may be inclined\n",
    "to dismiss such a doctrine as obviously absurd. There is no doubt that\n",
    "common sense regards tables and chairs and the sun and moon and material\n",
    "objects generally as something radically different from minds and the\n",
    "contents of minds, and as having an existence which might continue if\n",
    "minds ceased. We think of matter as having existed long before there\n",
    "were any minds, and it is hard to think of it as a mere product of\n",
    "mental activity. But whether true or false, idealism is not to be\n",
    "dismissed as obviously absurd.\n",
    "\n",
    "We have seen that, even if physical objects do have an independent\n",
    "existence, they must differ very widely from sense-data, and can only\n",
    "have a _correspondence_ with sense-data, in the same sort of way in\n",
    "which a catalogue has a correspondence with the things catalogued. Hence\n",
    "common sense leaves us completely in the dark as to the true intrinsic\n",
    "nature of physical objects, and if there were good reason to regard them\n",
    "as mental, we could not legitimately reject this opinion merely because\n",
    "it strikes us as strange. The truth about physical objects _must_ be\n",
    "strange. It may be unattainable, but if any philosopher believes that\n",
    "he has attained it, the fact that what he offers as the truth is strange\n",
    "ought not to be made a ground of objection to his opinion.\n",
    "\n",
    "The grounds on which idealism is advocated are generally grounds derived\n",
    "from the theory of knowledge, that is to say, from a discussion of the\n",
    "conditions which things must satisfy in order that we may be able to\n",
    "know them. The first serious attempt to establish idealism on such\n",
    "grounds was that of Bishop Berkeley. He proved first, by arguments which\n",
    "were largely valid, that our sense-data cannot be supposed to have an\n",
    "existence independent of us, but must be, in part at least, 'in' the\n",
    "mind, in the sense that their existence would not continue if there were\n",
    "no seeing or hearing or touching or smelling or tasting. So far, his\n",
    "contention was almost certainly valid, even if some of his arguments\n",
    "were not so. But he went on to argue that sense-data were the only\n",
    "things of whose existence our perceptions could assure us; and that\n",
    "to be known is to be 'in' a mind, and therefore to be mental. Hence he\n",
    "concluded that nothing can ever be known except what is in some mind,\n",
    "and that whatever is known without being in my mind must be in some\n",
    "other mind.\n",
    "\n",
    "In order to understand his argument, it is necessary to understand his\n",
    "use of the word 'idea'. He gives the name 'idea' to anything which\n",
    "is _immediately_ known, as, for example, sense-data are known. Thus a\n",
    "particular colour which we see is an idea; so is a voice which we hear,\n",
    "and so on. But the term is not wholly confined to sense-data. There will\n",
    "also be things remembered or imagined, for with such things also we have\n",
    "immediate acquaintance at the moment of remembering or imagining. All\n",
    "such immediate data he calls 'ideas'.\n",
    "\n",
    "He then proceeds to consider common objects, such as a tree, for\n",
    "instance. He shows that all we know immediately when we 'perceive' the\n",
    "tree consists of ideas in his sense of the word, and he argues that\n",
    "there is not the slightest ground for supposing that there is anything\n",
    "real about the tree except what is perceived. Its being, he says,\n",
    "consists in being perceived: in the Latin of the schoolmen its '_esse_'\n",
    "is '_percipi_'. He fully admits that the tree must continue to exist\n",
    "even when we shut our eyes or when no human being is near it. But this\n",
    "continued existence, he says, is due to the fact that God continues to\n",
    "perceive it; the 'real' tree, which corresponds to what we called the\n",
    "physical object, consists of ideas in the mind of God, ideas more or\n",
    "less like those we have when we see the tree, but differing in the fact\n",
    "that they are permanent in God's mind so long as the tree continues\n",
    "to exist. All our perceptions, according to him, consist in a\n",
    "partial participation in God's perceptions, and it is because of this\n",
    "participation that different people see more or less the same tree. Thus\n",
    "apart from minds and their ideas there is nothing in the world, nor is\n",
    "it possible that anything else should ever be known, since whatever is\n",
    "known is necessarily an idea.\n",
    "\n",
    "There are in this argument a good many fallacies which have been\n",
    "important in the history of philosophy, and which it will be as well to\n",
    "bring to light. In the first place, there is a confusion engendered by\n",
    "the use of the word 'idea'. We think of an idea as essentially something\n",
    "in somebody's mind, and thus when we are told that a tree consists\n",
    "entirely of ideas, it is natural to suppose that, if so, the tree\n",
    "must be entirely in minds. But the notion of being 'in' the mind is\n",
    "ambiguous. We speak of bearing a person in mind, not meaning that the\n",
    "person is in our minds, but that a thought of him is in our minds. When\n",
    "a man says that some business he had to arrange went clean out of his\n",
    "mind, he does not mean to imply that the business itself was ever in his\n",
    "mind, but only that a thought of the business was formerly in his mind,\n",
    "but afterwards ceased to be in his mind. And so when Berkeley says that\n",
    "the tree must be in our minds if we can know it, all that he really has\n",
    "a right to say is that a thought of the tree must be in our minds. To\n",
    "argue that the tree itself must be in our minds is like arguing that a\n",
    "person whom we bear in mind is himself in our minds. This confusion\n",
    "may seem too gross to have been really committed by any competent\n",
    "philosopher, but various attendant circumstances rendered it possible.\n",
    "In order to see how it was possible, we must go more deeply into the\n",
    "question as to the nature of ideas.\n",
    "```\n",
    "\n",
    "question:\n",
    "{question}\n",
    "\"\"\""
   ]
  },
  {
   "cell_type": "code",
   "execution_count": 5,
   "metadata": {},
   "outputs": [],
   "source": [
    "questions = [\n",
    "\"\"\"Russell states that idealism \"must not be dismissed as obviously absurd\" even though it contradicts common sense. How might we reconcile philosophical positions that contradict our intuitive understanding of the world? Is common sense a reliable guide for philosophical inquiry?\"\"\",\n",
    "\"\"\"Berkeley argues that \"to be is to be perceived\" (esse est percipi). Consider the implications of this view: if a tree falls in a forest with no one around to perceive it, does it make a sound? How might Berkeley respond to this classic philosophical question?\"\"\",\n",
    "\"\"\"Russell identifies what he considers \"fallacies\" in Berkeley's argument about ideas and minds. Do you find Russell's criticism compelling? What distinguishes \"being in the mind\" from \"having a thought about something\"?\"\"\",\n",
    "\"\"\"The excerpt suggests that our knowledge of physical objects is indirect and perhaps impossible to fully attain. How does this challenge affect our scientific understanding of the world? Can we have meaningful knowledge about things we cannot directly perceive?\"\"\",\n",
    "\"\"\"Berkeley posits God as the continuous perceiver of objects when humans aren't perceiving them. What role does theology play in his idealist philosophy, and how might a modern philosopher approach this aspect of his argument?\"\"\",\n",
    "]"
   ]
  },
  {
   "cell_type": "code",
   "execution_count": 6,
   "metadata": {},
   "outputs": [],
   "source": [
    "embedder = BedrockCohereEmbedder(\n",
    "    model=os.getenv(\"AWS_MODEL_NAME\"),\n",
    "    region_name=os.getenv(\"AWS_REGION_NAME\"),\n",
    "    input_type=os.getenv(\"AWS_INPUT_TYPE\"),\n",
    "    sleep_ms=0,\n",
    ")\n"
   ]
  },
  {
   "cell_type": "code",
   "execution_count": 9,
   "metadata": {},
   "outputs": [],
   "source": [
    "embedding_results = []\n",
    "for question in questions:\n",
    "    result = embedder.embed(question)\n",
    "    assert type(result) is EmbeddingResult\n",
    "    assert len(result.embedding) > 0\n",
    "    assert result.input_characters > 0\n",
    "    assert result.inf_time_ms > 0\n",
    "    assert len(result.embedding) == 1024\n",
    "    embedding_results.append(result)"
   ]
  },
  {
   "cell_type": "code",
   "execution_count": 10,
   "metadata": {},
   "outputs": [
    {
     "data": {
      "text/plain": [
       "EmbeddingResult(embedding=[-0.006137848, 0.002954483, -0.005470276, 0.044647217, -0.025482178, -0.015594482, 0.017333984, -0.02406311, 0.0040779114, -0.025253296, -0.014625549, -0.041931152, 0.00024819374, 0.0072517395, -0.059692383, 0.019836426, -0.002506256, -0.00092315674, -0.020492554, -0.032440186, -0.014312744, 0.030685425, 0.0362854, 0.030288696, -0.0340271, 0.018463135, 0.02520752, -0.020004272, 0.03326416, 0.0262146, -0.00061130524, -0.014060974, 0.03302002, 0.0038852692, 0.016586304, 0.005832672, 0.0049858093, -0.04159546, -0.0041885376, 0.030319214, 0.03427124, 0.020889282, 0.011787415, 0.003900528, -0.0036907196, -0.0022583008, 0.003736496, -0.03186035, -0.04537964, 0.04208374, -0.0057296753, -0.0039634705, 0.018814087, -0.0012950897, 0.021575928, 0.013587952, 0.02458191, -0.023635864, -0.013557434, -0.025375366, -0.0009059906, -0.03286743, -0.042755127, 0.025848389, -0.044189453, 0.004508972, 0.0043182373, -0.059539795, -0.009002686, 0.0022068024, -0.018493652, -0.00944519, 0.0067443848, 0.00084114075, -0.021820068, -0.040252686, -0.0262146, 0.013908386, 0.006641388, -0.029296875, -0.0043525696, -0.0050697327, 0.068725586, 0.0031414032, 0.029159546, 0.007881165, 0.0236969, 0.0059547424, -0.019058228, -0.0009613037, 0.076416016, 0.046142578, 0.033813477, -0.0574646, -0.03918457, -0.00032424927, 0.03012085, -0.0043258667, -0.016555786, -0.0039787292, -0.015151978, -0.02923584, 0.0023956299, -0.006713867, 0.06121826, -0.0028762817, 0.039794922, -0.009811401, -0.01939392, 0.03161621, 0.0034370422, 0.033203125, -0.021224976, -0.0011777878, -0.04949951, -0.06555176, -0.0058670044, -0.020599365, 0.012619019, -0.037231445, 0.007663727, 0.017669678, -0.005706787, -0.01576233, -0.02520752, -0.039154053, 0.025726318, -0.012817383, -0.008544922, 0.11450195, 0.02746582, 0.05923462, 0.027770996, -0.05218506, 0.03967285, -0.015625, 0.050476074, -0.036193848, 0.024291992, 0.023834229, -0.008720398, -9.942055e-05, -0.007511139, -0.01701355, 0.033447266, -0.0074043274, 0.032562256, 0.047576904, -0.0037841797, 0.0046310425, 0.025283813, 0.00033187866, 0.046081543, -0.031433105, -0.052886963, 0.011924744, 0.024383545, -0.020065308, -0.015777588, 0.051086426, -0.009407043, -0.02671814, 0.008148193, -0.023635864, -0.017532349, -0.028427124, 0.043640137, 0.0022602081, 0.015716553, -0.024215698, 0.04534912, -0.006832123, 0.020721436, -0.0018434525, -0.058654785, -0.052642822, 0.00061655045, 0.012901306, 0.0031471252, -0.066467285, 0.010932922, -0.036132812, 0.009239197, 0.0619812, 0.05407715, 0.034118652, -0.003566742, -0.024627686, 0.008392334, 0.07611084, -0.060028076, -0.00856781, -0.035491943, -0.04888916, -0.0513916, 0.021347046, 0.014434814, -0.025634766, -0.00819397, 0.024124146, 0.041656494, 0.0056381226, 0.022705078, -0.011390686, -0.021316528, -0.006340027, 0.04168701, 0.0016231537, -0.010543823, 0.007736206, -0.0038490295, 0.05984497, 0.0149383545, -0.027999878, 0.011062622, 0.023284912, 0.015571594, 0.0071029663, -0.0049972534, 0.050689697, 0.0041656494, 0.03225708, -0.03060913, 0.024871826, -0.014457703, 0.022872925, -0.03274536, 0.003868103, -0.010002136, 0.0103302, -0.005508423, -0.017684937, 0.034973145, -0.021743774, 0.047088623, 0.01448822, 0.0070266724, -0.0040664673, -0.021118164, -0.02619934, -0.0008792877, -0.062194824, 0.022735596, 0.01890564, -0.010353088, -0.0103302, -0.0016899109, 0.043884277, 0.017364502, -0.051727295, 0.0093688965, 0.04675293, 0.009552002, 0.018218994, 0.06604004, 0.026031494, -0.027526855, 0.031677246, 0.008834839, 0.018829346, 0.023468018, -0.030014038, 0.0109939575, -0.0104599, 0.057403564, 0.03842163, -0.0236969, -0.0146865845, -0.024307251, -0.07067871, -0.039794922, 0.020477295, -0.018997192, 0.016113281, -0.020492554, 0.04525757, -0.04171753, 0.0236969, -0.0036907196, 0.070129395, -0.018310547, 0.048583984, -0.011077881, 0.02279663, 0.005493164, 0.05987549, -0.04260254, 0.04928589, -0.00566864, 0.014671326, 0.007575989, -0.029144287, -0.022064209, 0.02645874, -0.0013017654, -0.006816864, 0.010894775, 0.019866943, -0.04949951, -0.0309906, -0.03866577, -0.036254883, -0.0146102905, -0.014175415, 0.061767578, 0.068725586, -0.06213379, 0.029724121, 0.021560669, -0.011833191, -0.011550903, -0.022750854, -0.035186768, -0.006778717, -0.028671265, -0.022018433, -0.03060913, -0.021072388, 0.008377075, 0.016906738, -0.053375244, -0.04650879, -0.026565552, -0.010032654, -0.010299683, 0.0063667297, 0.044769287, -0.02508545, 0.0008006096, -0.02720642, -0.010986328, 0.03253174, 0.01159668, -0.059020996, 0.01927185, -0.02279663, -0.02734375, -0.015914917, -0.017715454, -0.0112838745, -0.012466431, 0.033966064, -0.02017212, 0.0023097992, -0.011108398, -0.01209259, -0.017044067, 0.023468018, 0.019165039, -0.059539795, 0.008430481, 0.022201538, 0.037231445, -0.01436615, -0.050201416, -0.01423645, 0.043518066, 0.0014953613, -0.012802124, 0.0025081635, 0.016540527, -0.0031414032, -0.01802063, 0.007835388, -0.0007004738, 0.041778564, -0.014144897, 0.0060272217, 0.018005371, 0.0126953125, 0.009002686, -0.012962341, 0.06072998, 0.010551453, -0.0027160645, -0.008079529, -0.017990112, 0.0059661865, -0.015159607, 0.0096206665, 0.0014600754, -0.018157959, -0.040161133, -0.012199402, 0.053527832, 0.07092285, -0.017807007, -0.022781372, 0.03201294, 0.0076065063, 0.024841309, 0.0010309219, 0.045898438, 0.066101074, 0.011199951, -0.066223145, -0.019515991, 0.028152466, 0.041931152, -0.014266968, 0.006629944, -0.05505371, -0.029922485, -0.018051147, 0.003627777, 0.007865906, -0.011833191, 0.016418457, -0.017669678, 0.0021762848, -0.034210205, 0.017471313, 0.019592285, 0.0012359619, -0.060058594, 0.024002075, 0.02218628, 0.04953003, -0.013534546, 0.0061416626, -0.011817932, -0.03491211, 0.05734253, 0.05343628, 0.012489319, 0.030258179, 0.018295288, -0.037506104, 0.040039062, 0.003458023, 0.0047912598, -0.00022768974, -0.013832092, -0.017990112, -0.0026893616, -0.0015192032, -0.02494812, 0.014205933, 0.013977051, -0.026107788, -0.0047683716, -0.039642334, 0.05279541, -0.028366089, -0.008712769, -0.017410278, -0.028152466, -0.0184021, -0.042755127, -0.021560669, -0.018692017, -0.026794434, -0.027282715, -0.030975342, 0.033477783, -0.006111145, -0.07476807, 0.047454834, -0.002696991, 0.022064209, -0.0118255615, -0.012184143, 0.012992859, -0.015930176, -0.04727173, 0.027282715, -0.0027217865, -0.0031394958, -0.020889282, 0.016143799, -0.006164551, 0.02418518, 0.014022827, -0.037231445, 0.048339844, 0.004299164, -0.02772522, 0.0032672882, 0.0033855438, 0.04284668, -0.019104004, 0.020126343, -0.022064209, -0.031707764, 0.009757996, -0.0037155151, 0.03326416, 0.009338379, 0.04321289, -0.01007843, 0.01940918, 0.0036315918, -0.07476807, -0.0284729, 0.029434204, -0.024810791, 0.027511597, -0.025680542, 0.04147339, 0.032165527, 0.01914978, -0.013450623, 0.031280518, 0.011177063, -0.012756348, 0.004550934, 0.032806396, 0.008605957, -0.027740479, 0.0073776245, -0.040985107, 0.012054443, -0.03967285, 0.019302368, 0.025650024, -0.046203613, 0.01411438, 0.020965576, 0.015617371, -0.03668213, 0.053497314, 0.056274414, 0.012992859, 0.018737793, 0.05117798, -0.0058174133, -0.013313293, 0.048431396, -0.0791626, -0.042266846, 0.015464783, 0.021133423, 0.003364563, 0.028137207, -0.07080078, -0.053009033, 0.024002075, -0.049987793, 0.041259766, 0.060302734, 0.02116394, 0.009017944, 0.0017642975, 0.09429932, 0.036224365, 0.0007519722, -0.016784668, 0.019836426, -0.03213501, -0.011817932, -0.060760498, 0.022003174, -0.019317627, -0.036071777, 0.027191162, 0.0040664673, -0.06567383, -0.052734375, 0.01689148, 0.047210693, 0.02670288, -0.0859375, -0.032836914, 0.080322266, 0.00831604, -0.020141602, -0.020935059, 5.185604e-06, 0.0098724365, -0.02067566, 0.01676941, 0.018173218, 0.011398315, -0.0034255981, -0.01687622, -0.014579773, 0.01651001, 0.0052871704, -0.032684326, -0.0064735413, 0.00077819824, 0.009338379, 0.027114868, -0.009124756, 0.020217896, -0.06890869, -0.00068998337, 0.0005016327, 0.026855469, 0.011375427, 0.07208252, 0.010025024, 0.010253906, 0.06008911, 0.00869751, -0.006362915, 0.025253296, 0.016296387, 0.014625549, 0.016311646, -0.021270752, 0.018920898, 0.0079956055, 0.045654297, 0.0011453629, 0.02192688, 0.018737793, 0.010353088, -0.010665894, 0.010803223, 0.009094238, 0.0058937073, 0.020812988, 0.013183594, -0.009994507, -0.0056648254, -0.03942871, -0.010635376, 0.029800415, 0.041168213, -0.02784729, -0.018600464, 0.012962341, 0.0011339188, 0.0070877075, -0.06384277, -0.09918213, 0.06542969, 0.040771484, -0.0046920776, 0.03894043, 0.070617676, -0.018173218, -0.027160645, -0.0019006729, -0.030258179, 0.03161621, -0.02357483, -0.025665283, 0.055908203, -0.008323669, -0.03439331, -0.010101318, 0.023223877, -0.04888916, -0.011917114, 0.019454956, -0.03010559, 0.018600464, -0.066833496, -0.0059013367, -0.062286377, -0.013832092, 0.032440186, -0.026550293, 0.027328491, 0.02949524, 0.00034165382, -0.0007715225, -0.016860962, -0.00422287, 0.0023269653, -0.026428223, -0.050964355, 0.0011262894, 0.030090332, -0.0057144165, 0.05895996, 0.023406982, -0.03552246, -0.015670776, 0.036102295, 0.02923584, -0.021011353, 0.025390625, 0.092285156, -0.08673096, -0.01411438, -0.035705566, 0.054138184, 0.029769897, -0.012023926, -0.06161499, 0.03186035, 0.025100708, 0.02508545, -0.038635254, -0.00034928322, -0.036590576, -0.033477783, 0.023880005, 0.012435913, -0.012710571, -0.037475586, 0.022064209, -0.0395813, 0.05545044, 0.015571594, -0.0513916, -0.00051259995, -0.025634766, 0.0635376, 0.016983032, 0.0211792, -0.006706238, 0.012466431, 0.03378296, -0.045532227, 0.05493164, 0.033111572, -0.024154663, 0.061340332, 0.004524231, 0.018249512, -0.02720642, 0.0037021637, -0.018463135, -0.038970947, -0.023223877, -0.008552551, -0.021697998, 0.011772156, 0.015007019, -0.044281006, 0.015640259, -0.0036468506, -0.064941406, -0.024261475, -0.0059814453, 0.060791016, 0.0075302124, -0.028549194, -0.002588272, 0.056152344, 0.018753052, 0.0035514832, -0.019012451, -0.066223145, 0.070617676, -0.015007019, 0.023284912, 0.026535034, -0.01436615, -0.024734497, 0.015838623, 0.015541077, -0.026992798, 0.030563354, -0.031982422, -0.014312744, -0.015586853, 0.054626465, -0.01739502, -0.010864258, -0.013046265, -0.021469116, 0.05618286, 0.02822876, 0.027450562, 0.0619812, 0.00014173985, -0.022476196, -0.028045654, -0.0010166168, -0.027801514, 0.0076179504, -0.024414062, 0.017501831, 0.013114929, -0.0038146973, 0.017471313, -0.034362793, -0.013046265, 0.028427124, -0.019989014, -0.014663696, -0.041809082, -0.008651733, 0.02659607, 0.0044441223, -0.011054993, -0.009498596, 0.02067566, -0.024490356, 0.0074882507, -0.055389404, -0.006046295, -0.007949829, 0.021896362, 0.031829834, 0.012916565, -0.0010309219, -0.0066108704, 0.031188965, -0.00022304058, -0.0050315857, -0.00466156, -0.06311035, -0.008140564, -0.04031372, 0.10192871, -0.009101868, -0.0046463013, -0.03427124, 0.041412354, -0.03540039, -0.033477783, -0.028656006, -0.013793945, 0.0362854, -0.080322266, 0.09100342, 0.0035247803, -0.009681702, 0.02420044, 0.026626587, 0.023712158, 0.024780273, 0.017181396, 0.025604248, 0.029159546, -0.029251099, -0.032073975, -0.029281616, -0.0040740967, 0.024490356, 0.008407593, -0.0007696152, -0.038208008, -0.068481445, -0.029525757, -0.0051345825, -0.0034618378, -0.02319336, -0.01890564, -0.0045166016, -0.011375427, 0.038330078, 0.030548096, 0.03933716, -0.09979248, -0.0023555756, -0.043029785, -0.008758545, 0.0050621033, -0.064697266, -0.06982422, 0.020492554, 0.043395996, 0.042022705, 0.01687622, 0.041656494, 0.03677368, -0.02645874, -0.0053977966, -0.01133728, 0.015167236, 0.007335663, 0.0024700165, -0.018066406, 0.0034561157, -0.0074920654, -0.05557251, 0.032226562, -0.018173218, -0.012939453, -0.025863647, 0.02027893, 0.04437256, -0.020095825, -0.020431519, 0.022888184, 0.033996582, -0.0062561035, 0.0050697327, -0.011260986, 0.0043563843, -0.035583496, -0.010688782, -0.07019043, 0.029129028, -0.058746338, 0.045715332, -0.018859863, -0.04159546, -0.0236969, 0.0038394928, 0.030014038, -0.03289795, 0.041809082, 0.0013189316, 0.043518066, 0.026000977, -0.004928589, -0.012588501, -0.00013625622, 0.048095703, -0.016159058, -0.03842163, -0.022964478, -0.030563354, -0.011756897, 0.0059432983, 0.03543091, -0.023635864, 0.06585693, 0.020889282, 0.014862061, 0.010421753, 0.0066719055, -0.05847168, -0.035125732, -0.0018777847, 0.011688232, 0.019042969, -0.017288208, -0.0519104, 0.003479004, -0.03427124, -0.012825012, -0.03186035, 0.07220459, -0.039886475, 0.0068359375, -0.0073127747, -0.064086914, 0.039916992, 0.021194458, -0.0069389343, 0.0044059753, -0.01927185, -0.03930664, -0.005317688, -0.012832642, -0.029052734, -0.046539307, 0.033599854, 0.041290283, 0.051757812, 0.022827148, -0.0087890625, 0.018875122, 0.03805542, -0.053741455, 0.04397583, 0.04711914, 0.0015010834, 0.034362793, 0.005619049, -0.0050735474, 0.06713867, -0.03390503, 0.03387451, 0.0022277832, -0.013694763, 0.037017822, -0.014205933, -0.008369446, -0.01612854, 0.038330078, -0.02671814, 0.04067993, 0.0020980835, -0.018661499, -0.056549072, 0.020004272, 0.07672119, -0.044525146, -0.03048706, -0.0060157776, 0.0015935898, -0.06628418, -0.010429382, -0.009689331, -0.01725769, 0.0025310516, 0.022521973, -0.07336426, 0.034454346, 0.023330688, 0.0026111603, 0.033966064, 0.010879517, 0.011932373, -0.023590088, 0.030883789, -0.033081055, 0.020767212, -0.014228821, 0.019104004, 0.012664795, 0.009216309, -0.043945312, 0.012588501, -0.0038700104, -0.011138916, 0.0004518032, -0.043823242, 0.03161621, 0.032592773, 0.033447266, -0.004306793, -0.014884949, 0.008018494, -0.00043582916, -0.01159668, 0.024459839, -0.03741455, 0.04849243, 0.03744507, 0.024017334, 0.058258057, -0.032989502, 0.060943604, -0.028533936, -0.01876831, -0.011413574, 0.013404846, -0.03326416, 0.0284729, -0.015304565, 0.068359375, -0.02973938, -0.0004887581], input_characters=278, inf_time_ms=250)"
      ]
     },
     "execution_count": 10,
     "metadata": {},
     "output_type": "execute_result"
    }
   ],
   "source": [
    "embedding_results[0]"
   ]
  },
  {
   "cell_type": "code",
   "execution_count": 11,
   "metadata": {},
   "outputs": [],
   "source": [
    "gcp_generator = GCPGenerator(\n",
    "    model=\"gemini-1.5-flash\",\n",
    "    api_key=os.getenv(\"GCP_KEY\"),\n",
    ")"
   ]
  },
  {
   "cell_type": "code",
   "execution_count": 12,
   "metadata": {},
   "outputs": [],
   "source": [
    "gcp_responses = []\n",
    "for question in questions:\n",
    "    test_messages = [\n",
    "        {\"role\": \"system\", \"content\": system_prompt},\n",
    "        {\"role\": \"user\", \"content\": user_template.format(question=question)}\n",
    "    ]\n",
    "    start_time = time.time()\n",
    "    response = gcp_generator.generate(test_messages, temperature=0.0)\n",
    "    end_time = time.time()\n",
    "    inf_time_ms = int((end_time - start_time) * 1000)\n",
    "    assert type(response) is GenerationResult\n",
    "    assert response.tokens.prompt_tokens > 0\n",
    "    assert response.tokens.output_tokens > 0\n",
    "    assert response.text\n",
    "    assert (inf_time_ms-500) < response.inf_time_ms < (inf_time_ms+500)\n",
    "    gcp_responses.append(response)"
   ]
  },
  {
   "cell_type": "code",
   "execution_count": 13,
   "metadata": {},
   "outputs": [
    {
     "name": "stdout",
     "output_type": "stream",
     "text": [
      "48 1478 48 1526\n",
      "11 1489 11 1500\n",
      "57 1477 57 1534\n",
      "55 1475 55 1530\n",
      "45 1476 45 1521\n"
     ]
    }
   ],
   "source": [
    "# print token info for each response\n",
    "for response in gcp_responses:\n",
    "    print(response.tokens.cached_tokens, response.tokens.prompt_tokens, response.tokens.output_tokens, response.tokens.total_tokens)\n"
   ]
  },
  {
   "cell_type": "code",
   "execution_count": 14,
   "metadata": {},
   "outputs": [
    {
     "name": "stdout",
     "output_type": "stream",
     "text": [
      "Russell states that idealism \"must not be dismissed as obviously absurd\" even though it contradicts common sense. How might we reconcile philosophical positions that contradict our intuitive understanding of the world? Is common sense a reliable guide for philosophical inquiry?\n",
      "Idealism's strangeness doesn't invalidate it.  Reconciliation requires rigorous analysis of concepts and arguments, not reliance on intuition. Common sense is unreliable in philosophical inquiry; it's a starting point, not a conclusion.\n",
      "\n",
      "\n",
      "Berkeley argues that \"to be is to be perceived\" (esse est percipi). Consider the implications of this view: if a tree falls in a forest with no one around to perceive it, does it make a sound? How might Berkeley respond to this classic philosophical question?\n",
      "No sound.  Berkeley: God perceives it.\n",
      "\n",
      "\n",
      "Russell identifies what he considers \"fallacies\" in Berkeley's argument about ideas and minds. Do you find Russell's criticism compelling? What distinguishes \"being in the mind\" from \"having a thought about something\"?\n",
      "Russell's criticism is compelling.  Berkeley conflates \"being in the mind\" (mental existence) with \"having a thought of\" (mental representation).  The former implies inherent mental constitution; the latter, merely mental access.  This ambiguity undermines Berkeley's idealism.\n",
      "\n",
      "\n",
      "The excerpt suggests that our knowledge of physical objects is indirect and perhaps impossible to fully attain. How does this challenge affect our scientific understanding of the world? Can we have meaningful knowledge about things we cannot directly perceive?\n",
      "Russell's idealism critique highlights the indirect nature of our knowledge, mediated by sense-data.  This challenges scientific understanding by questioning the attainability of objective truth about the external world. Meaningful knowledge remains possible through inference and correspondence, though complete certainty eludes us.\n",
      "\n",
      "\n",
      "Berkeley posits God as the continuous perceiver of objects when humans aren't perceiving them. What role does theology play in his idealist philosophy, and how might a modern philosopher approach this aspect of his argument?\n",
      "God, for Berkeley, prevents the universe from ceasing to exist when unperceived by humans;  theological underpinning is crucial.  Modern philosophers might reject this reliance on divine perception, seeking naturalistic explanations for persistence.\n",
      "\n",
      "\n"
     ]
    }
   ],
   "source": [
    "# print question and response text\n",
    "for idx, response in enumerate(gcp_responses):\n",
    "    print(questions[idx])\n",
    "    print(response.text)\n",
    "    print()\n"
   ]
  },
  {
   "cell_type": "code",
   "execution_count": 15,
   "metadata": {},
   "outputs": [
    {
     "data": {
      "text/plain": [
       "GenerationResult(text=\"Idealism's strangeness doesn't invalidate it.  Reconciliation requires rigorous analysis of concepts and arguments, not reliance on intuition. Common sense is unreliable in philosophical inquiry; it's a starting point, not a conclusion.\\n\", tokens=TokenUsage(cached_tokens=48, prompt_tokens=1478, output_tokens=48, total_tokens=1526), inf_time_ms=6015, status='ok')"
      ]
     },
     "execution_count": 15,
     "metadata": {},
     "output_type": "execute_result"
    }
   ],
   "source": [
    "gcp_responses[0]"
   ]
  },
  {
   "cell_type": "code",
   "execution_count": 27,
   "metadata": {},
   "outputs": [],
   "source": [
    "azure_generator = AzureGenerator(\n",
    "    model=\"gpt-4o-mini-dev\",\n",
    "    api_key=os.getenv(\"AZURE_OPENAI_API_KEY\"),\n",
    "    azure_endpoint=os.getenv(\"AZURE_OPENAI_API_ENDPOINT\"),\n",
    "    api_version=os.getenv(\"AZURE_OPENAI_API_VERSION\"),\n",
    ")"
   ]
  },
  {
   "cell_type": "code",
   "execution_count": 32,
   "metadata": {},
   "outputs": [],
   "source": [
    "azure_responses = []\n",
    "for question in questions:\n",
    "    test_messages = [\n",
    "        {\"role\": \"system\", \"content\": system_prompt},\n",
    "        {\"role\": \"user\", \"content\": user_template.format(question=question)}\n",
    "    ]\n",
    "    start_time = time.time()\n",
    "    response = azure_generator.generate(test_messages, temperature=0.0)\n",
    "    end_time = time.time()\n",
    "    inf_time_ms = int((end_time - start_time) * 1000)\n",
    "    assert type(response) is GenerationResult\n",
    "    assert response.tokens.prompt_tokens > 0\n",
    "    assert response.tokens.output_tokens > 0\n",
    "    assert response.text\n",
    "    assert (inf_time_ms-500) < response.inf_time_ms < (inf_time_ms+500)\n",
    "    azure_responses.append(response)\n"
   ]
  },
  {
   "cell_type": "code",
   "execution_count": null,
   "metadata": {},
   "outputs": [],
   "source": [
    "# print token info for each response\n",
    "for response in azure_responses:\n",
    "    print(response.tokens.cached_tokens, response.tokens.prompt_tokens, response.tokens.output_tokens, response.tokens.total_tokens)\n"
   ]
  },
  {
   "cell_type": "code",
   "execution_count": null,
   "metadata": {},
   "outputs": [],
   "source": [
    "# print question and response text\n",
    "for idx, response in enumerate(azure_responses):\n",
    "    print(questions[idx])\n",
    "    print(response.text)\n",
    "    print()\n"
   ]
  },
  {
   "cell_type": "code",
   "execution_count": null,
   "metadata": {},
   "outputs": [],
   "source": []
  }
 ],
 "metadata": {
  "kernelspec": {
   "display_name": "bird",
   "language": "python",
   "name": "python3"
  },
  "language_info": {
   "codemirror_mode": {
    "name": "ipython",
    "version": 3
   },
   "file_extension": ".py",
   "mimetype": "text/x-python",
   "name": "python",
   "nbconvert_exporter": "python",
   "pygments_lexer": "ipython3",
   "version": "3.12.9"
  }
 },
 "nbformat": 4,
 "nbformat_minor": 2
}
