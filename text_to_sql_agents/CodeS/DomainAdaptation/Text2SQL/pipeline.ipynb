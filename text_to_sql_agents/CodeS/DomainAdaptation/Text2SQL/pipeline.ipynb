{
 "cells": [
  {
   "cell_type": "code",
   "execution_count": 1,
   "metadata": {},
   "outputs": [],
   "source": [
    "import json\n",
    "import sqlite3\n",
    "import pandas as pd\n",
    "import numpy as np\n",
    "import requests\n",
    "import tqdm\n",
    "import re"
   ]
  },
  {
   "cell_type": "code",
   "execution_count": 26,
   "metadata": {},
   "outputs": [],
   "source": [
    "# Arguments\n",
    "db_path = '../Database/Aminer_Simplified-small.sqlite'\n",
    "url = 'openai-url'\n",
    "api_key = 'your-api-key'\n",
    "headers = {\n",
    "    'Content-Type': 'application/json',\n",
    "    'Authorization': f'Bearer {api_key}'\n",
    "}\n",
    "seed_data_path = '../Annotation/train.xlsx'\n",
    "question_prompt_path = './QuestionGenerationTemplate.txt'\n",
    "text_to_sql_prompt_path = './Text2SqlTemplate.txt'"
   ]
  },
  {
   "cell_type": "code",
   "execution_count": 3,
   "metadata": {},
   "outputs": [
    {
     "name": "stdout",
     "output_type": "stream",
     "text": [
      "CREATE TABLE Venue(\n",
      "  id TEXT, -- id\n",
      "  DisplayName TEXT, -- name of the conferenece/joural\n",
      "  PRIMARY KEY (id)\n",
      ")\n",
      "\n",
      "CREATE TABLE Affiliation(\n",
      "  id TEXT, -- id\n",
      "  DisplayName TEXT, -- name of the orgnization\n",
      "  type TEXT, -- orgnization type\n",
      "  url TEXT, -- link of the orgnization's homepage\n",
      "  PRIMARY KEY (id)\n",
      ")\n",
      "\n",
      "CREATE TABLE Author(\n",
      "  id TEXT, -- id\n",
      "  name TEXT, -- name\n",
      "  org TEXT, -- author's current orgnization\n",
      "  position TEXT, -- position\n",
      "  n_pubs INTEGER, -- number of paper publication\n",
      "  n_citation INTEGER, -- number of total citation\n",
      "  h_index INTEGER, -- h-index\n",
      "  PRIMARY KEY (id)\n",
      ")\n",
      "\n",
      "CREATE TABLE Paper(\n",
      "  id TEXT, -- id\n",
      "  title TEXT, -- title\n",
      "  year INTEGER, -- publication year\n",
      "  n_citation INTEGER, -- number of citation\n",
      "  page_start TEXT, -- start page on the publication\n",
      "  page_end TEXT, -- end page on the publication\n",
      "  lang TEXT, -- language\n",
      "  volume TEXT, -- volume of the publicaiton\n",
      "  doi TEXT, -- digital object unique identifier\n",
      "  pdf TEXT, -- pdf view link of the paper\n",
      "  abstract TEXT, -- paper abstract\n",
      "  PRIMARY KEY (id)\n",
      ")\n",
      "\n",
      "CREATE TABLE Venue_Papers(\n",
      "  venue_id TEXT, -- venue_id\n",
      "  paper_id TEXT, -- paper_id\n",
      "  FOREIGN KEY (venue_id) REFERENCES Venue(id),\n",
      "  FOREIGN KEY (paper_id) REFERENCES Paper(id)\n",
      ")\n",
      "\n",
      "CREATE TABLE Paper_Keywords(\n",
      "  paper_id TEXT, -- paper_id\n",
      "  keyword TEXT, -- a keyword of the paper\n",
      "  FOREIGN KEY (paper_id) REFERENCES Paper(id) \n",
      ")\n",
      "\n",
      "CREATE TABLE Paper_Authors(\n",
      "  paper_id TEXT, -- paper_id\n",
      "  rank INTEGER, -- this author's rank\n",
      "  author_id TEXT, -- author_id\n",
      "  FOREIGN KEY (paper_id) REFERENCES Paper(id),\n",
      "  FOREIGN KEY (author_id) REFERENCES Author(id) \n",
      ")\n",
      "\n",
      "CREATE TABLE Orgnization_Researchers(\n",
      "  affiliation_name TEXT, -- name of affiliation that this researcher once belonged to\n",
      "  author_id TEXT, -- author_id\n",
      "  FOREIGN KEY (author_id) REFERENCES Author(id)\n",
      ")\n",
      "\n",
      "CREATE TABLE Researcher_Interests(\n",
      "  author_id TEXT, -- author_id\n",
      "  tag Text, -- research interest\n",
      "  weight INTEGER, -- weight of this interest\n",
      "  FOREIGN KEY (author_id) REFERENCES Author(id)\n",
      ")\n",
      "\n",
      "\n"
     ]
    }
   ],
   "source": [
    "def get_database_prompt(db_path) -> str:\n",
    "\n",
    "    stmt = ''\n",
    "\n",
    "    conn = sqlite3.connect(db_path)\n",
    "    cur = conn.cursor()\n",
    "\n",
    "    # Fetch names of all tables\n",
    "    cur.execute(\"SELECT name FROM sqlite_master WHERE type='table';\")\n",
    "    tables = cur.fetchall()\n",
    "\n",
    "    # Fech create statements for all tables\n",
    "    for table in tables:\n",
    "        table_name = table[0]\n",
    "        cur.execute(f\"SELECT sql FROM sqlite_master WHERE type='table' AND name='{table_name}';\")\n",
    "        create_statement = cur.fetchone()[0]\n",
    "\n",
    "        stmt += create_statement + '\\n\\n'\n",
    "\n",
    "    conn.close()\n",
    "    return stmt\n",
    "\n",
    "print(get_database_prompt(db_path=db_path))"
   ]
  },
  {
   "cell_type": "code",
   "execution_count": 4,
   "metadata": {},
   "outputs": [
    {
     "data": {
      "text/html": [
       "<div>\n",
       "<style scoped>\n",
       "    .dataframe tbody tr th:only-of-type {\n",
       "        vertical-align: middle;\n",
       "    }\n",
       "\n",
       "    .dataframe tbody tr th {\n",
       "        vertical-align: top;\n",
       "    }\n",
       "\n",
       "    .dataframe thead th {\n",
       "        text-align: right;\n",
       "    }\n",
       "</style>\n",
       "<table border=\"1\" class=\"dataframe\">\n",
       "  <thead>\n",
       "    <tr style=\"text-align: right;\">\n",
       "      <th></th>\n",
       "      <th>question</th>\n",
       "      <th>query</th>\n",
       "    </tr>\n",
       "  </thead>\n",
       "  <tbody>\n",
       "    <tr>\n",
       "      <th>0</th>\n",
       "      <td>Show the different keywords articles which has...</td>\n",
       "      <td>SELECT DISTINCT Paper_Keywords.keyword\\nFROM P...</td>\n",
       "    </tr>\n",
       "    <tr>\n",
       "      <th>1</th>\n",
       "      <td>find researcher who published all his paper af...</td>\n",
       "      <td>SELECT Author.name\\nFROM Author\\nWHERE Author....</td>\n",
       "    </tr>\n",
       "    <tr>\n",
       "      <th>2</th>\n",
       "      <td>Where to find the pdf file of the paper 'Femto...</td>\n",
       "      <td>SELECT Paper.pdf\\nFROM Paper\\nWHERE Paper.titl...</td>\n",
       "    </tr>\n",
       "    <tr>\n",
       "      <th>3</th>\n",
       "      <td>what orgnization has most researchers once bel...</td>\n",
       "      <td>SELECT Orgnization_Researchers.affiliation_nam...</td>\n",
       "    </tr>\n",
       "    <tr>\n",
       "      <th>4</th>\n",
       "      <td>Among all institutions, which one has the most...</td>\n",
       "      <td>SELECT Author_Interested_In_Algorithms.org, CO...</td>\n",
       "    </tr>\n",
       "  </tbody>\n",
       "</table>\n",
       "</div>"
      ],
      "text/plain": [
       "                                            question  \\\n",
       "0  Show the different keywords articles which has...   \n",
       "1  find researcher who published all his paper af...   \n",
       "2  Where to find the pdf file of the paper 'Femto...   \n",
       "3  what orgnization has most researchers once bel...   \n",
       "4  Among all institutions, which one has the most...   \n",
       "\n",
       "                                               query  \n",
       "0  SELECT DISTINCT Paper_Keywords.keyword\\nFROM P...  \n",
       "1  SELECT Author.name\\nFROM Author\\nWHERE Author....  \n",
       "2  SELECT Paper.pdf\\nFROM Paper\\nWHERE Paper.titl...  \n",
       "3  SELECT Orgnization_Researchers.affiliation_nam...  \n",
       "4  SELECT Author_Interested_In_Algorithms.org, CO...  "
      ]
     },
     "execution_count": 4,
     "metadata": {},
     "output_type": "execute_result"
    }
   ],
   "source": [
    "train = pd.read_excel(seed_data_path)\n",
    "train.head()"
   ]
  },
  {
   "cell_type": "code",
   "execution_count": 13,
   "metadata": {},
   "outputs": [
    {
     "name": "stderr",
     "output_type": "stream",
     "text": [
      " 10%|█         | 1/10 [00:03<00:32,  3.62s/it]"
     ]
    },
    {
     "name": "stdout",
     "output_type": "stream",
     "text": [
      "Which authors have a higher h-index than the average h-index of all authors?\n"
     ]
    },
    {
     "name": "stderr",
     "output_type": "stream",
     "text": [
      " 20%|██        | 2/10 [00:06<00:23,  2.98s/it]"
     ]
    },
    {
     "name": "stdout",
     "output_type": "stream",
     "text": [
      "Which papers have been published by the conference 'International Conference on Machine Learning'?\n"
     ]
    },
    {
     "name": "stderr",
     "output_type": "stream",
     "text": [
      " 30%|███       | 3/10 [00:08<00:19,  2.82s/it]"
     ]
    },
    {
     "name": "stdout",
     "output_type": "stream",
     "text": [
      "What are the research interests of the authors with the highest h-index?\n"
     ]
    },
    {
     "name": "stderr",
     "output_type": "stream",
     "text": [
      " 40%|████      | 4/10 [00:12<00:18,  3.07s/it]"
     ]
    },
    {
     "name": "stdout",
     "output_type": "stream",
     "text": [
      "Which authors have the highest number of paper publications?\n"
     ]
    },
    {
     "name": "stderr",
     "output_type": "stream",
     "text": [
      " 50%|█████     | 5/10 [00:15<00:15,  3.02s/it]"
     ]
    },
    {
     "name": "stdout",
     "output_type": "stream",
     "text": [
      "Which conference has the highest number of papers published in the year 2020?\n"
     ]
    },
    {
     "name": "stderr",
     "output_type": "stream",
     "text": [
      " 60%|██████    | 6/10 [00:20<00:15,  3.91s/it]"
     ]
    },
    {
     "name": "stdout",
     "output_type": "stream",
     "text": [
      "\n"
     ]
    },
    {
     "name": "stderr",
     "output_type": "stream",
     "text": [
      " 70%|███████   | 7/10 [00:23<00:10,  3.36s/it]"
     ]
    },
    {
     "name": "stdout",
     "output_type": "stream",
     "text": [
      "How many papers are published in each year?\n"
     ]
    },
    {
     "name": "stderr",
     "output_type": "stream",
     "text": [
      " 80%|████████  | 8/10 [00:29<00:08,  4.23s/it]"
     ]
    },
    {
     "name": "stdout",
     "output_type": "stream",
     "text": [
      "Which papers are written by authors who have published more than 50 papers?\n"
     ]
    },
    {
     "name": "stderr",
     "output_type": "stream",
     "text": [
      " 90%|█████████ | 9/10 [00:31<00:03,  3.63s/it]"
     ]
    },
    {
     "name": "stdout",
     "output_type": "stream",
     "text": [
      "Which authors have published more than 50 papers?\n"
     ]
    },
    {
     "name": "stderr",
     "output_type": "stream",
     "text": [
      "100%|██████████| 10/10 [00:36<00:00,  3.67s/it]"
     ]
    },
    {
     "name": "stdout",
     "output_type": "stream",
     "text": [
      "Can you provide a list of papers that were published in conferences with their conference names and years?\n"
     ]
    },
    {
     "name": "stderr",
     "output_type": "stream",
     "text": [
      "\n"
     ]
    }
   ],
   "source": [
    "def extract(response:str) -> str : # extract response from formatted string\n",
    "    text = ''\n",
    "    try :\n",
    "        text = re.search(r'\\{(.+?)\\}', response, re.DOTALL).groups(0)[-1] \n",
    "    except : \n",
    "        return ''\n",
    "    return text\n",
    "\n",
    "def generate_new_questions(db_path, train, n_demo=30, n_ques=20) -> list :\n",
    "    \n",
    "    database_prompt = get_database_prompt(db_path)\n",
    "    question_prompt = open(question_prompt_path, 'r').read()\n",
    "    questions = []\n",
    "    for _ in tqdm.tqdm(range(n_ques)):\n",
    "        shots = np.random.choice(train['question'], n_demo, replace=False)\n",
    "        prompt = question_prompt.replace('{SCHEMA_SLOT}', database_prompt)\n",
    "        for shot in shots :\n",
    "            prompt += f'{{{shot}}}\\n\\n'\n",
    "        params = {\n",
    "                    \"model\": \"gpt-3.5-turbo-16k\",\n",
    "                    \"messages\": [{\"role\":\"user\", \"content\":prompt}],\n",
    "                    \"temperature\": 1.0,\n",
    "        }\n",
    "        response = requests.post(url, headers=headers, data=json.dumps(params))\n",
    "        generated_question = extract(response.json().get('choices')[0].get('message').get('content'))\n",
    "        if questions != '' :\n",
    "            print(generated_question)\n",
    "            questions.append(generated_question)\n",
    "    return questions\n",
    "\n",
    "questions = generate_new_questions(db_path=db_path, train=train, n_demo=5, n_ques=10)"
   ]
  },
  {
   "cell_type": "code",
   "execution_count": 29,
   "metadata": {},
   "outputs": [
    {
     "name": "stderr",
     "output_type": "stream",
     "text": [
      " 10%|█         | 1/10 [00:03<00:29,  3.29s/it]"
     ]
    },
    {
     "name": "stdout",
     "output_type": "stream",
     "text": [
      "Which authors have a higher h-index than the average h-index of all authors?\n",
      "SELECT Author.name\n",
      "FROM Author\n",
      "WHERE Author.h_index > (SELECT AVG(h_index) FROM Author);\n"
     ]
    },
    {
     "name": "stderr",
     "output_type": "stream",
     "text": [
      " 20%|██        | 2/10 [00:05<00:22,  2.86s/it]"
     ]
    },
    {
     "name": "stdout",
     "output_type": "stream",
     "text": [
      "Which papers have been published by the conference 'International Conference on Machine Learning'?\n",
      "SELECT Paper.title\n",
      "FROM Paper\n",
      "JOIN Venue_Papers ON Paper.id = Venue_Papers.paper_id\n",
      "JOIN Venue ON Venue_Papers.venue_id = Venue.id\n",
      "WHERE Venue.DisplayName = 'International Conference on Machine Learning';\n"
     ]
    },
    {
     "name": "stderr",
     "output_type": "stream",
     "text": [
      " 30%|███       | 3/10 [00:08<00:18,  2.69s/it]"
     ]
    },
    {
     "name": "stdout",
     "output_type": "stream",
     "text": [
      "What are the research interests of the authors with the highest h-index?\n",
      "SELECT Researcher_Interests.tag\n",
      "FROM Researcher_Interests\n",
      "WHERE Researcher_Interests.author_id IN (SELECT Author.id FROM Author WHERE Author.h_index = (SELECT MAX(h_index) FROM Author));\n"
     ]
    },
    {
     "name": "stderr",
     "output_type": "stream",
     "text": [
      " 40%|████      | 4/10 [00:10<00:15,  2.62s/it]"
     ]
    },
    {
     "name": "stdout",
     "output_type": "stream",
     "text": [
      "Which authors have the highest number of paper publications?\n",
      "SELECT Author.name\n",
      "FROM Author\n",
      "WHERE Author.n_pubs = (SELECT MAX(n_pubs) FROM Author);\n"
     ]
    },
    {
     "name": "stderr",
     "output_type": "stream",
     "text": [
      " 50%|█████     | 5/10 [00:12<00:11,  2.32s/it]"
     ]
    },
    {
     "name": "stdout",
     "output_type": "stream",
     "text": [
      "Which conference has the highest number of papers published in the year 2020?\n",
      "SELECT Venue.DisplayName\n",
      "FROM Venue\n",
      "JOIN Venue_Papers ON Venue.id = Venue_Papers.venue_id\n",
      "JOIN Paper ON Venue_Papers.paper_id = Paper.id\n",
      "WHERE Paper.year = 2020\n",
      "GROUP BY Venue.DisplayName\n",
      "ORDER BY COUNT(*) DESC\n",
      "LIMIT 1;\n"
     ]
    },
    {
     "name": "stderr",
     "output_type": "stream",
     "text": [
      " 70%|███████   | 7/10 [00:18<00:07,  2.63s/it]"
     ]
    },
    {
     "name": "stdout",
     "output_type": "stream",
     "text": [
      "How many papers are published in each year?\n",
      "SELECT year, COUNT(*) AS num_papers\n",
      "FROM Paper\n",
      "GROUP BY year;\n"
     ]
    },
    {
     "name": "stderr",
     "output_type": "stream",
     "text": [
      " 80%|████████  | 8/10 [00:20<00:05,  2.59s/it]"
     ]
    },
    {
     "name": "stdout",
     "output_type": "stream",
     "text": [
      "Which papers are written by authors who have published more than 50 papers?\n",
      "SELECT Paper.title\n",
      "FROM Paper\n",
      "JOIN Paper_Authors ON Paper.id = Paper_Authors.paper_id\n",
      "JOIN (SELECT Author.id FROM Author WHERE Author.n_pubs > 50) AS Prolific_Authors\n",
      "ON Paper_Authors.author_id = Prolific_Authors.id;\n"
     ]
    },
    {
     "name": "stderr",
     "output_type": "stream",
     "text": [
      " 90%|█████████ | 9/10 [00:22<00:02,  2.44s/it]"
     ]
    },
    {
     "name": "stdout",
     "output_type": "stream",
     "text": [
      "Which authors have published more than 50 papers?\n",
      "SELECT Author.name\n",
      "FROM Author\n",
      "WHERE Author.n_pubs > 50;\n"
     ]
    },
    {
     "name": "stderr",
     "output_type": "stream",
     "text": [
      "100%|██████████| 10/10 [00:25<00:00,  2.53s/it]"
     ]
    },
    {
     "name": "stdout",
     "output_type": "stream",
     "text": [
      "Can you provide a list of papers that were published in conferences with their conference names and years?\n",
      "SELECT Paper.title, Venue.DisplayName, Paper.year\n",
      "FROM Paper\n",
      "JOIN Venue_Papers ON Paper.id = Venue_Papers.paper_id\n",
      "JOIN Venue ON Venue_Papers.venue_id = Venue.id\n",
      "WHERE Venue.type = 'conference';\n"
     ]
    },
    {
     "name": "stderr",
     "output_type": "stream",
     "text": [
      "\n"
     ]
    },
    {
     "data": {
      "text/plain": [
       "[{'question': 'Which authors have a higher h-index than the average h-index of all authors?',\n",
       "  'SQL': 'SELECT Author.name\\nFROM Author\\nWHERE Author.h_index > (SELECT AVG(h_index) FROM Author);'},\n",
       " {'question': \"Which papers have been published by the conference 'International Conference on Machine Learning'?\",\n",
       "  'SQL': \"SELECT Paper.title\\nFROM Paper\\nJOIN Venue_Papers ON Paper.id = Venue_Papers.paper_id\\nJOIN Venue ON Venue_Papers.venue_id = Venue.id\\nWHERE Venue.DisplayName = 'International Conference on Machine Learning';\"},\n",
       " {'question': 'What are the research interests of the authors with the highest h-index?',\n",
       "  'SQL': 'SELECT Researcher_Interests.tag\\nFROM Researcher_Interests\\nWHERE Researcher_Interests.author_id IN (SELECT Author.id FROM Author WHERE Author.h_index = (SELECT MAX(h_index) FROM Author));'},\n",
       " {'question': 'Which authors have the highest number of paper publications?',\n",
       "  'SQL': 'SELECT Author.name\\nFROM Author\\nWHERE Author.n_pubs = (SELECT MAX(n_pubs) FROM Author);'},\n",
       " {'question': 'Which conference has the highest number of papers published in the year 2020?',\n",
       "  'SQL': 'SELECT Venue.DisplayName\\nFROM Venue\\nJOIN Venue_Papers ON Venue.id = Venue_Papers.venue_id\\nJOIN Paper ON Venue_Papers.paper_id = Paper.id\\nWHERE Paper.year = 2020\\nGROUP BY Venue.DisplayName\\nORDER BY COUNT(*) DESC\\nLIMIT 1;'},\n",
       " {'question': 'How many papers are published in each year?',\n",
       "  'SQL': 'SELECT year, COUNT(*) AS num_papers\\nFROM Paper\\nGROUP BY year;'},\n",
       " {'question': 'Which papers are written by authors who have published more than 50 papers?',\n",
       "  'SQL': 'SELECT Paper.title\\nFROM Paper\\nJOIN Paper_Authors ON Paper.id = Paper_Authors.paper_id\\nJOIN (SELECT Author.id FROM Author WHERE Author.n_pubs > 50) AS Prolific_Authors\\nON Paper_Authors.author_id = Prolific_Authors.id;'},\n",
       " {'question': 'Which authors have published more than 50 papers?',\n",
       "  'SQL': 'SELECT Author.name\\nFROM Author\\nWHERE Author.n_pubs > 50;'},\n",
       " {'question': 'Can you provide a list of papers that were published in conferences with their conference names and years?',\n",
       "  'SQL': \"SELECT Paper.title, Venue.DisplayName, Paper.year\\nFROM Paper\\nJOIN Venue_Papers ON Paper.id = Venue_Papers.paper_id\\nJOIN Venue ON Venue_Papers.venue_id = Venue.id\\nWHERE Venue.type = 'conference';\"}]"
      ]
     },
     "execution_count": 29,
     "metadata": {},
     "output_type": "execute_result"
    }
   ],
   "source": [
    "def text2sql(db_path, train, questions, n_demo=30) -> list :\n",
    "    augmented_data = []\n",
    "    text_to_sql_prompt = open(text_to_sql_prompt_path, 'r').read()\n",
    "    for question in tqdm.tqdm(questions):\n",
    "        random_indices = np.random.choice(len(train), n_demo, replace=False)\n",
    "        shots_ques = list(train['question'].iloc[random_indices])\n",
    "        shots_query = list(train['query'].iloc[random_indices])\n",
    "\n",
    "        prompt = text_to_sql_prompt.replace('{SCHEMA_SLOT}', get_database_prompt(db_path))\n",
    "        slot = 'Q: {QUES}\\n{SQL}\\n\\n'\n",
    "        shots = ''.join([slot.replace('QUES', ques).replace('SQL', sql) for ques, sql in zip(shots_ques, shots_query)])\n",
    "        prompt = re.sub(r'\\{SLOTS\\}', shots, prompt)\n",
    "        prompt = prompt.replace('NATURAL_LANGUAGE_QUESTION', question)\n",
    "\n",
    "        params = {\n",
    "                    \"model\": \"gpt-3.5-turbo-16k\",\n",
    "                    \"messages\": [{\"role\":\"user\", \"content\":prompt}],\n",
    "                    \"temperature\": 0,\n",
    "        }\n",
    "        response = requests.post(url, headers=headers, data=json.dumps(params))\n",
    "        generated_sql = extract(response.json().get('choices')[0].get('message').get('content'))\n",
    "        if generated_sql != '' :\n",
    "            augmented_data.append({'question': question, 'SQL': generated_sql})\n",
    "            print(question)\n",
    "            print(generated_sql)\n",
    "\n",
    "    return augmented_data\n",
    "\n",
    "augmented_data = text2sql(db_path=db_path, train=train, questions=questions, n_demo=30)\n",
    "augmented_data"
   ]
  },
  {
   "cell_type": "code",
   "execution_count": 34,
   "metadata": {},
   "outputs": [
    {
     "name": "stderr",
     "output_type": "stream",
     "text": [
      "100%|██████████| 9/9 [00:04<00:00,  1.96it/s]"
     ]
    },
    {
     "name": "stdout",
     "output_type": "stream",
     "text": [
      "no such column: Venue.type\n",
      "Error in SQL: SELECT Paper.title, Venue.DisplayName, Paper.year\n",
      "FROM Paper\n",
      "JOIN Venue_Papers ON Paper.id = Venue_Papers.paper_id\n",
      "JOIN Venue ON Venue_Papers.venue_id = Venue.id\n",
      "WHERE Venue.type = 'conference';\n"
     ]
    },
    {
     "name": "stderr",
     "output_type": "stream",
     "text": [
      "\n"
     ]
    },
    {
     "data": {
      "text/plain": [
       "[{'question': 'Which authors have a higher h-index than the average h-index of all authors?',\n",
       "  'SQL': 'SELECT Author.name\\nFROM Author\\nWHERE Author.h_index > (SELECT AVG(h_index) FROM Author);'},\n",
       " {'question': \"Which papers have been published by the conference 'International Conference on Machine Learning'?\",\n",
       "  'SQL': \"SELECT Paper.title\\nFROM Paper\\nJOIN Venue_Papers ON Paper.id = Venue_Papers.paper_id\\nJOIN Venue ON Venue_Papers.venue_id = Venue.id\\nWHERE Venue.DisplayName = 'International Conference on Machine Learning';\"},\n",
       " {'question': 'What are the research interests of the authors with the highest h-index?',\n",
       "  'SQL': 'SELECT Researcher_Interests.tag\\nFROM Researcher_Interests\\nWHERE Researcher_Interests.author_id IN (SELECT Author.id FROM Author WHERE Author.h_index = (SELECT MAX(h_index) FROM Author));'},\n",
       " {'question': 'Which authors have the highest number of paper publications?',\n",
       "  'SQL': 'SELECT Author.name\\nFROM Author\\nWHERE Author.n_pubs = (SELECT MAX(n_pubs) FROM Author);'},\n",
       " {'question': 'Which conference has the highest number of papers published in the year 2020?',\n",
       "  'SQL': 'SELECT Venue.DisplayName\\nFROM Venue\\nJOIN Venue_Papers ON Venue.id = Venue_Papers.venue_id\\nJOIN Paper ON Venue_Papers.paper_id = Paper.id\\nWHERE Paper.year = 2020\\nGROUP BY Venue.DisplayName\\nORDER BY COUNT(*) DESC\\nLIMIT 1;'},\n",
       " {'question': 'How many papers are published in each year?',\n",
       "  'SQL': 'SELECT year, COUNT(*) AS num_papers\\nFROM Paper\\nGROUP BY year;'},\n",
       " {'question': 'Which papers are written by authors who have published more than 50 papers?',\n",
       "  'SQL': 'SELECT Paper.title\\nFROM Paper\\nJOIN Paper_Authors ON Paper.id = Paper_Authors.paper_id\\nJOIN (SELECT Author.id FROM Author WHERE Author.n_pubs > 50) AS Prolific_Authors\\nON Paper_Authors.author_id = Prolific_Authors.id;'},\n",
       " {'question': 'Which authors have published more than 50 papers?',\n",
       "  'SQL': 'SELECT Author.name\\nFROM Author\\nWHERE Author.n_pubs > 50;'}]"
      ]
     },
     "execution_count": 34,
     "metadata": {},
     "output_type": "execute_result"
    }
   ],
   "source": [
    "def filter_generated_data(data, db_path) -> list :\n",
    "    conn = sqlite3.connect(db_path)\n",
    "    cur = conn.cursor()\n",
    "    filtered = []\n",
    "    for item in tqdm.tqdm(data) :\n",
    "        try :\n",
    "            cur.execute(item['SQL'])\n",
    "            result = cur.fetchall()\n",
    "            # collect non-trivial query\n",
    "            #if len(result) > 0 : \n",
    "            #    filtered.append(item)\n",
    "            filtered.append(item)\n",
    "        except Exception as e :\n",
    "            print(e)\n",
    "            print('Error in SQL:', item['SQL'])\n",
    "    conn.close()\n",
    "    return filtered\n",
    "\n",
    "data = filter_generated_data(data=augmented_data, db_path=db_path)\n",
    "data"
   ]
  }
 ],
 "metadata": {
  "kernelspec": {
   "display_name": "base",
   "language": "python",
   "name": "python3"
  },
  "language_info": {
   "codemirror_mode": {
    "name": "ipython",
    "version": 3
   },
   "file_extension": ".py",
   "mimetype": "text/x-python",
   "name": "python",
   "nbconvert_exporter": "python",
   "pygments_lexer": "ipython3",
   "version": "3.9.13"
  }
 },
 "nbformat": 4,
 "nbformat_minor": 2
}
